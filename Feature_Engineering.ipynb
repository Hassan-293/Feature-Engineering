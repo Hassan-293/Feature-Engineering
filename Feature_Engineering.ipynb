{
  "nbformat": 4,
  "nbformat_minor": 0,
  "metadata": {
    "colab": {
      "name": "Feature_Engineering.ipynb",
      "provenance": [],
      "collapsed_sections": [],
      "include_colab_link": true
    },
    "kernelspec": {
      "name": "python3",
      "display_name": "Python 3"
    },
    "language_info": {
      "name": "python"
    },
    "accelerator": "GPU",
    "gpuClass": "standard"
  },
  "cells": [
    {
      "cell_type": "markdown",
      "metadata": {
        "id": "view-in-github",
        "colab_type": "text"
      },
      "source": [
        "<a href=\"https://colab.research.google.com/github/Hassan-293/Feature-Engineering/blob/Hassan-Feature_Engineering/Feature_Engineering.ipynb\" target=\"_parent\"><img src=\"https://colab.research.google.com/assets/colab-badge.svg\" alt=\"Open In Colab\"/></a>"
      ]
    },
    {
      "cell_type": "code",
      "execution_count": 19,
      "metadata": {
        "id": "TAncx9RJzVFl"
      },
      "outputs": [],
      "source": [
        "import numpy as np\n",
        "import pandas as pd \n",
        "from mlxtend.preprocessing import minmax_scaling\n",
        "import seaborn as sns\n",
        "import matplotlib.pyplot as plt"
      ]
    },
    {
      "cell_type": "markdown",
      "source": [
        "**Data Loading**"
      ],
      "metadata": {
        "id": "OY-l2OENY_cD"
      }
    },
    {
      "cell_type": "code",
      "source": [
        "df= pd.read_csv('prosperLoanData.csv', engine='python',error_bad_lines=False)\n",
        "df.head()"
      ],
      "metadata": {
        "colab": {
          "base_uri": "https://localhost:8080/",
          "height": 456
        },
        "id": "9mjkk3n-zl4R",
        "outputId": "b52776ee-591d-4510-fdcd-93478e17782f"
      },
      "execution_count": 40,
      "outputs": [
        {
          "output_type": "stream",
          "name": "stderr",
          "text": [
            "/usr/local/lib/python3.7/dist-packages/IPython/core/interactiveshell.py:2882: FutureWarning: The error_bad_lines argument has been deprecated and will be removed in a future version.\n",
            "\n",
            "\n",
            "  exec(code_obj, self.user_global_ns, self.user_ns)\n"
          ]
        },
        {
          "output_type": "execute_result",
          "data": {
            "text/plain": [
              "                ListingKey  ListingNumber            ListingCreationDate  \\\n",
              "0  1021339766868145413AB3B         193129  2007-08-26 19:09:29.263000000   \n",
              "1  10273602499503308B223C1        1209647  2014-02-27 08:28:07.900000000   \n",
              "2  0EE9337825851032864889A          81716  2007-01-05 15:00:47.090000000   \n",
              "3  0EF5356002482715299901A         658116  2012-10-22 11:02:35.010000000   \n",
              "4  0F023589499656230C5E3E2         909464  2013-09-14 18:38:39.097000000   \n",
              "\n",
              "  CreditGrade  Term LoanStatus           ClosedDate  BorrowerAPR  \\\n",
              "0           C    36  Completed  2009-08-14 00:00:00      0.16516   \n",
              "1         NaN    36    Current                  NaN      0.12016   \n",
              "2          HR    36  Completed  2009-12-17 00:00:00      0.28269   \n",
              "3         NaN    36    Current                  NaN      0.12528   \n",
              "4         NaN    36    Current                  NaN      0.24614   \n",
              "\n",
              "   BorrowerRate  LenderYield  ...  LP_ServiceFees  LP_CollectionFees  \\\n",
              "0        0.1580       0.1380  ...         -133.18                0.0   \n",
              "1        0.0920       0.0820  ...            0.00                0.0   \n",
              "2        0.2750       0.2400  ...          -24.20                0.0   \n",
              "3        0.0974       0.0874  ...         -108.01                0.0   \n",
              "4        0.2085       0.1985  ...          -60.27                0.0   \n",
              "\n",
              "   LP_GrossPrincipalLoss  LP_NetPrincipalLoss LP_NonPrincipalRecoverypayments  \\\n",
              "0                    0.0                  0.0                             0.0   \n",
              "1                    0.0                  0.0                             0.0   \n",
              "2                    0.0                  0.0                             0.0   \n",
              "3                    0.0                  0.0                             0.0   \n",
              "4                    0.0                  0.0                             0.0   \n",
              "\n",
              "   PercentFunded  Recommendations InvestmentFromFriendsCount  \\\n",
              "0            1.0                0                          0   \n",
              "1            1.0                0                          0   \n",
              "2            1.0                0                          0   \n",
              "3            1.0                0                          0   \n",
              "4            1.0                0                          0   \n",
              "\n",
              "  InvestmentFromFriendsAmount Investors  \n",
              "0                         0.0       258  \n",
              "1                         0.0         1  \n",
              "2                         0.0        41  \n",
              "3                         0.0       158  \n",
              "4                         0.0        20  \n",
              "\n",
              "[5 rows x 81 columns]"
            ],
            "text/html": [
              "\n",
              "  <div id=\"df-16717b09-73b8-457e-a9a5-d5d9aae52739\">\n",
              "    <div class=\"colab-df-container\">\n",
              "      <div>\n",
              "<style scoped>\n",
              "    .dataframe tbody tr th:only-of-type {\n",
              "        vertical-align: middle;\n",
              "    }\n",
              "\n",
              "    .dataframe tbody tr th {\n",
              "        vertical-align: top;\n",
              "    }\n",
              "\n",
              "    .dataframe thead th {\n",
              "        text-align: right;\n",
              "    }\n",
              "</style>\n",
              "<table border=\"1\" class=\"dataframe\">\n",
              "  <thead>\n",
              "    <tr style=\"text-align: right;\">\n",
              "      <th></th>\n",
              "      <th>ListingKey</th>\n",
              "      <th>ListingNumber</th>\n",
              "      <th>ListingCreationDate</th>\n",
              "      <th>CreditGrade</th>\n",
              "      <th>Term</th>\n",
              "      <th>LoanStatus</th>\n",
              "      <th>ClosedDate</th>\n",
              "      <th>BorrowerAPR</th>\n",
              "      <th>BorrowerRate</th>\n",
              "      <th>LenderYield</th>\n",
              "      <th>...</th>\n",
              "      <th>LP_ServiceFees</th>\n",
              "      <th>LP_CollectionFees</th>\n",
              "      <th>LP_GrossPrincipalLoss</th>\n",
              "      <th>LP_NetPrincipalLoss</th>\n",
              "      <th>LP_NonPrincipalRecoverypayments</th>\n",
              "      <th>PercentFunded</th>\n",
              "      <th>Recommendations</th>\n",
              "      <th>InvestmentFromFriendsCount</th>\n",
              "      <th>InvestmentFromFriendsAmount</th>\n",
              "      <th>Investors</th>\n",
              "    </tr>\n",
              "  </thead>\n",
              "  <tbody>\n",
              "    <tr>\n",
              "      <th>0</th>\n",
              "      <td>1021339766868145413AB3B</td>\n",
              "      <td>193129</td>\n",
              "      <td>2007-08-26 19:09:29.263000000</td>\n",
              "      <td>C</td>\n",
              "      <td>36</td>\n",
              "      <td>Completed</td>\n",
              "      <td>2009-08-14 00:00:00</td>\n",
              "      <td>0.16516</td>\n",
              "      <td>0.1580</td>\n",
              "      <td>0.1380</td>\n",
              "      <td>...</td>\n",
              "      <td>-133.18</td>\n",
              "      <td>0.0</td>\n",
              "      <td>0.0</td>\n",
              "      <td>0.0</td>\n",
              "      <td>0.0</td>\n",
              "      <td>1.0</td>\n",
              "      <td>0</td>\n",
              "      <td>0</td>\n",
              "      <td>0.0</td>\n",
              "      <td>258</td>\n",
              "    </tr>\n",
              "    <tr>\n",
              "      <th>1</th>\n",
              "      <td>10273602499503308B223C1</td>\n",
              "      <td>1209647</td>\n",
              "      <td>2014-02-27 08:28:07.900000000</td>\n",
              "      <td>NaN</td>\n",
              "      <td>36</td>\n",
              "      <td>Current</td>\n",
              "      <td>NaN</td>\n",
              "      <td>0.12016</td>\n",
              "      <td>0.0920</td>\n",
              "      <td>0.0820</td>\n",
              "      <td>...</td>\n",
              "      <td>0.00</td>\n",
              "      <td>0.0</td>\n",
              "      <td>0.0</td>\n",
              "      <td>0.0</td>\n",
              "      <td>0.0</td>\n",
              "      <td>1.0</td>\n",
              "      <td>0</td>\n",
              "      <td>0</td>\n",
              "      <td>0.0</td>\n",
              "      <td>1</td>\n",
              "    </tr>\n",
              "    <tr>\n",
              "      <th>2</th>\n",
              "      <td>0EE9337825851032864889A</td>\n",
              "      <td>81716</td>\n",
              "      <td>2007-01-05 15:00:47.090000000</td>\n",
              "      <td>HR</td>\n",
              "      <td>36</td>\n",
              "      <td>Completed</td>\n",
              "      <td>2009-12-17 00:00:00</td>\n",
              "      <td>0.28269</td>\n",
              "      <td>0.2750</td>\n",
              "      <td>0.2400</td>\n",
              "      <td>...</td>\n",
              "      <td>-24.20</td>\n",
              "      <td>0.0</td>\n",
              "      <td>0.0</td>\n",
              "      <td>0.0</td>\n",
              "      <td>0.0</td>\n",
              "      <td>1.0</td>\n",
              "      <td>0</td>\n",
              "      <td>0</td>\n",
              "      <td>0.0</td>\n",
              "      <td>41</td>\n",
              "    </tr>\n",
              "    <tr>\n",
              "      <th>3</th>\n",
              "      <td>0EF5356002482715299901A</td>\n",
              "      <td>658116</td>\n",
              "      <td>2012-10-22 11:02:35.010000000</td>\n",
              "      <td>NaN</td>\n",
              "      <td>36</td>\n",
              "      <td>Current</td>\n",
              "      <td>NaN</td>\n",
              "      <td>0.12528</td>\n",
              "      <td>0.0974</td>\n",
              "      <td>0.0874</td>\n",
              "      <td>...</td>\n",
              "      <td>-108.01</td>\n",
              "      <td>0.0</td>\n",
              "      <td>0.0</td>\n",
              "      <td>0.0</td>\n",
              "      <td>0.0</td>\n",
              "      <td>1.0</td>\n",
              "      <td>0</td>\n",
              "      <td>0</td>\n",
              "      <td>0.0</td>\n",
              "      <td>158</td>\n",
              "    </tr>\n",
              "    <tr>\n",
              "      <th>4</th>\n",
              "      <td>0F023589499656230C5E3E2</td>\n",
              "      <td>909464</td>\n",
              "      <td>2013-09-14 18:38:39.097000000</td>\n",
              "      <td>NaN</td>\n",
              "      <td>36</td>\n",
              "      <td>Current</td>\n",
              "      <td>NaN</td>\n",
              "      <td>0.24614</td>\n",
              "      <td>0.2085</td>\n",
              "      <td>0.1985</td>\n",
              "      <td>...</td>\n",
              "      <td>-60.27</td>\n",
              "      <td>0.0</td>\n",
              "      <td>0.0</td>\n",
              "      <td>0.0</td>\n",
              "      <td>0.0</td>\n",
              "      <td>1.0</td>\n",
              "      <td>0</td>\n",
              "      <td>0</td>\n",
              "      <td>0.0</td>\n",
              "      <td>20</td>\n",
              "    </tr>\n",
              "  </tbody>\n",
              "</table>\n",
              "<p>5 rows × 81 columns</p>\n",
              "</div>\n",
              "      <button class=\"colab-df-convert\" onclick=\"convertToInteractive('df-16717b09-73b8-457e-a9a5-d5d9aae52739')\"\n",
              "              title=\"Convert this dataframe to an interactive table.\"\n",
              "              style=\"display:none;\">\n",
              "        \n",
              "  <svg xmlns=\"http://www.w3.org/2000/svg\" height=\"24px\"viewBox=\"0 0 24 24\"\n",
              "       width=\"24px\">\n",
              "    <path d=\"M0 0h24v24H0V0z\" fill=\"none\"/>\n",
              "    <path d=\"M18.56 5.44l.94 2.06.94-2.06 2.06-.94-2.06-.94-.94-2.06-.94 2.06-2.06.94zm-11 1L8.5 8.5l.94-2.06 2.06-.94-2.06-.94L8.5 2.5l-.94 2.06-2.06.94zm10 10l.94 2.06.94-2.06 2.06-.94-2.06-.94-.94-2.06-.94 2.06-2.06.94z\"/><path d=\"M17.41 7.96l-1.37-1.37c-.4-.4-.92-.59-1.43-.59-.52 0-1.04.2-1.43.59L10.3 9.45l-7.72 7.72c-.78.78-.78 2.05 0 2.83L4 21.41c.39.39.9.59 1.41.59.51 0 1.02-.2 1.41-.59l7.78-7.78 2.81-2.81c.8-.78.8-2.07 0-2.86zM5.41 20L4 18.59l7.72-7.72 1.47 1.35L5.41 20z\"/>\n",
              "  </svg>\n",
              "      </button>\n",
              "      \n",
              "  <style>\n",
              "    .colab-df-container {\n",
              "      display:flex;\n",
              "      flex-wrap:wrap;\n",
              "      gap: 12px;\n",
              "    }\n",
              "\n",
              "    .colab-df-convert {\n",
              "      background-color: #E8F0FE;\n",
              "      border: none;\n",
              "      border-radius: 50%;\n",
              "      cursor: pointer;\n",
              "      display: none;\n",
              "      fill: #1967D2;\n",
              "      height: 32px;\n",
              "      padding: 0 0 0 0;\n",
              "      width: 32px;\n",
              "    }\n",
              "\n",
              "    .colab-df-convert:hover {\n",
              "      background-color: #E2EBFA;\n",
              "      box-shadow: 0px 1px 2px rgba(60, 64, 67, 0.3), 0px 1px 3px 1px rgba(60, 64, 67, 0.15);\n",
              "      fill: #174EA6;\n",
              "    }\n",
              "\n",
              "    [theme=dark] .colab-df-convert {\n",
              "      background-color: #3B4455;\n",
              "      fill: #D2E3FC;\n",
              "    }\n",
              "\n",
              "    [theme=dark] .colab-df-convert:hover {\n",
              "      background-color: #434B5C;\n",
              "      box-shadow: 0px 1px 3px 1px rgba(0, 0, 0, 0.15);\n",
              "      filter: drop-shadow(0px 1px 2px rgba(0, 0, 0, 0.3));\n",
              "      fill: #FFFFFF;\n",
              "    }\n",
              "  </style>\n",
              "\n",
              "      <script>\n",
              "        const buttonEl =\n",
              "          document.querySelector('#df-16717b09-73b8-457e-a9a5-d5d9aae52739 button.colab-df-convert');\n",
              "        buttonEl.style.display =\n",
              "          google.colab.kernel.accessAllowed ? 'block' : 'none';\n",
              "\n",
              "        async function convertToInteractive(key) {\n",
              "          const element = document.querySelector('#df-16717b09-73b8-457e-a9a5-d5d9aae52739');\n",
              "          const dataTable =\n",
              "            await google.colab.kernel.invokeFunction('convertToInteractive',\n",
              "                                                     [key], {});\n",
              "          if (!dataTable) return;\n",
              "\n",
              "          const docLinkHtml = 'Like what you see? Visit the ' +\n",
              "            '<a target=\"_blank\" href=https://colab.research.google.com/notebooks/data_table.ipynb>data table notebook</a>'\n",
              "            + ' to learn more about interactive tables.';\n",
              "          element.innerHTML = '';\n",
              "          dataTable['output_type'] = 'display_data';\n",
              "          await google.colab.output.renderOutput(dataTable, element);\n",
              "          const docLink = document.createElement('div');\n",
              "          docLink.innerHTML = docLinkHtml;\n",
              "          element.appendChild(docLink);\n",
              "        }\n",
              "      </script>\n",
              "    </div>\n",
              "  </div>\n",
              "  "
            ]
          },
          "metadata": {},
          "execution_count": 40
        }
      ]
    },
    {
      "cell_type": "code",
      "source": [
        "\n",
        "data = np.nan_to_num(df)\n",
        "print(df)"
      ],
      "metadata": {
        "colab": {
          "base_uri": "https://localhost:8080/"
        },
        "id": "e6K0OvwS2zW_",
        "outputId": "bec330fb-e6ab-4080-d0fb-6326e209d655"
      },
      "execution_count": 12,
      "outputs": [
        {
          "output_type": "stream",
          "name": "stdout",
          "text": [
            "                    ListingKey  ListingNumber            ListingCreationDate  \\\n",
            "0      1021339766868145413AB3B         193129  2007-08-26 19:09:29.263000000   \n",
            "1      10273602499503308B223C1        1209647  2014-02-27 08:28:07.900000000   \n",
            "2      0EE9337825851032864889A          81716  2007-01-05 15:00:47.090000000   \n",
            "3      0EF5356002482715299901A         658116  2012-10-22 11:02:35.010000000   \n",
            "4      0F023589499656230C5E3E2         909464  2013-09-14 18:38:39.097000000   \n",
            "...                        ...            ...                            ...   \n",
            "93948  E52235368981208889E8D1B         553540  2012-01-22 19:31:25.083000000   \n",
            "93949  E5233382782328625803A5C         105696  2007-03-02 16:41:20.900000000   \n",
            "93950  E527360160300640225F84D        1186770  2014-02-04 13:51:45.363000000   \n",
            "93951  E52B3558655864250BF4680         641783  2012-09-19 07:39:30.927000000   \n",
            "93952  E52D3573502612216270A52         732408  2013-03-17 18:35:57.733000000   \n",
            "\n",
            "      CreditGrade  Term  LoanStatus           ClosedDate  BorrowerAPR  \\\n",
            "0               C    36   Completed  2009-08-14 00:00:00      0.16516   \n",
            "1             NaN    36     Current                  NaN      0.12016   \n",
            "2              HR    36   Completed  2009-12-17 00:00:00      0.28269   \n",
            "3             NaN    36     Current                  NaN      0.12528   \n",
            "4             NaN    36     Current                  NaN      0.24614   \n",
            "...           ...   ...         ...                  ...          ...   \n",
            "93948         NaN    36   Completed  2013-12-16 00:00:00      0.35797   \n",
            "93949           D    36  Chargedoff  2010-03-23 00:00:00      0.19228   \n",
            "93950         NaN    36     Current                  NaN      0.22466   \n",
            "93951         NaN    60     Current                  NaN      0.28324   \n",
            "93952         NaN    60   Completed  2013-09-22 00:00:00      0.24589   \n",
            "\n",
            "       BorrowerRate  LenderYield  ...  LP_ServiceFees  LP_CollectionFees  \\\n",
            "0            0.1580       0.1380  ...         -133.18                0.0   \n",
            "1            0.0920       0.0820  ...            0.00                0.0   \n",
            "2            0.2750       0.2400  ...          -24.20                0.0   \n",
            "3            0.0974       0.0874  ...         -108.01                0.0   \n",
            "4            0.2085       0.1985  ...          -60.27                0.0   \n",
            "...             ...          ...  ...             ...                ...   \n",
            "93948        0.3177       0.3077  ...          -51.05                0.0   \n",
            "93949        0.1850       0.1600  ...         -149.05                0.0   \n",
            "93950        0.1875       0.1775  ...          -11.51                0.0   \n",
            "93951        0.2573       0.2473  ...         -131.26                0.0   \n",
            "93952        0.2209       0.2109  ...          -30.28                0.0   \n",
            "\n",
            "       LP_GrossPrincipalLoss  LP_NetPrincipalLoss  \\\n",
            "0                       0.00                 0.00   \n",
            "1                       0.00                 0.00   \n",
            "2                       0.00                 0.00   \n",
            "3                       0.00                 0.00   \n",
            "4                       0.00                 0.00   \n",
            "...                      ...                  ...   \n",
            "93948                   0.00                 0.00   \n",
            "93949                1615.96              1615.94   \n",
            "93950                   0.00                 0.00   \n",
            "93951                   0.00                 0.00   \n",
            "93952                   0.00                 0.00   \n",
            "\n",
            "      LP_NonPrincipalRecoverypayments  PercentFunded  Recommendations  \\\n",
            "0                                 0.0            1.0                0   \n",
            "1                                 0.0            1.0                0   \n",
            "2                                 0.0            1.0                0   \n",
            "3                                 0.0            1.0                0   \n",
            "4                                 0.0            1.0                0   \n",
            "...                               ...            ...              ...   \n",
            "93948                             0.0            1.0                0   \n",
            "93949                             0.0            1.0                1   \n",
            "93950                             0.0            1.0                0   \n",
            "93951                             0.0            1.0                0   \n",
            "93952                             0.0            1.0                0   \n",
            "\n",
            "      InvestmentFromFriendsCount InvestmentFromFriendsAmount Investors  \n",
            "0                              0                         0.0       258  \n",
            "1                              0                         0.0         1  \n",
            "2                              0                         0.0        41  \n",
            "3                              0                         0.0       158  \n",
            "4                              0                         0.0        20  \n",
            "...                          ...                         ...       ...  \n",
            "93948                          0                         0.0         3  \n",
            "93949                          0                         0.0       184  \n",
            "93950                          0                         0.0         1  \n",
            "93951                          0                         0.0        12  \n",
            "93952                          0                         0.0       122  \n",
            "\n",
            "[93953 rows x 81 columns]\n"
          ]
        }
      ]
    },
    {
      "cell_type": "code",
      "source": [
        "df.info()"
      ],
      "metadata": {
        "colab": {
          "base_uri": "https://localhost:8080/"
        },
        "id": "7H9a7G4R2NmI",
        "outputId": "0437c9d9-37cf-45a3-ee8e-287cdd23f4b4"
      },
      "execution_count": null,
      "outputs": [
        {
          "output_type": "stream",
          "name": "stdout",
          "text": [
            "<class 'pandas.core.frame.DataFrame'>\n",
            "RangeIndex: 4145 entries, 0 to 4144\n",
            "Data columns (total 81 columns):\n",
            " #   Column                               Non-Null Count  Dtype         \n",
            "---  ------                               --------------  -----         \n",
            " 0   ListingKey                           4145 non-null   object        \n",
            " 1   ListingNumber                        4145 non-null   int64         \n",
            " 2   ListingCreationDate                  4145 non-null   datetime64[ns]\n",
            " 3   CreditGrade                          1020 non-null   object        \n",
            " 4   Term                                 4145 non-null   int64         \n",
            " 5   LoanStatus                           4145 non-null   object        \n",
            " 6   ClosedDate                           1961 non-null   object        \n",
            " 7   BorrowerAPR                          4144 non-null   float64       \n",
            " 8   BorrowerRate                         4145 non-null   float64       \n",
            " 9   LenderYield                          4145 non-null   float64       \n",
            " 10  EstimatedEffectiveYield              3120 non-null   float64       \n",
            " 11  EstimatedLoss                        3120 non-null   float64       \n",
            " 12  EstimatedReturn                      3120 non-null   float64       \n",
            " 13  ProsperRating (numeric)              3120 non-null   float64       \n",
            " 14  ProsperRating (Alpha)                3120 non-null   object        \n",
            " 15  ProsperScore                         3120 non-null   float64       \n",
            " 16  ListingCategory (numeric)            4145 non-null   int64         \n",
            " 17  BorrowerState                        3946 non-null   object        \n",
            " 18  Occupation                           4001 non-null   object        \n",
            " 19  EmploymentStatus                     4047 non-null   object        \n",
            " 20  EmploymentStatusDuration             3872 non-null   float64       \n",
            " 21  IsBorrowerHomeowner                  4145 non-null   bool          \n",
            " 22  CurrentlyInGroup                     4145 non-null   bool          \n",
            " 23  GroupKey                             462 non-null    object        \n",
            " 24  DateCreditPulled                     4145 non-null   object        \n",
            " 25  CreditScoreRangeLower                4120 non-null   float64       \n",
            " 26  CreditScoreRangeUpper                4120 non-null   float64       \n",
            " 27  FirstRecordedCreditLine              4117 non-null   object        \n",
            " 28  CurrentCreditLines                   3872 non-null   float64       \n",
            " 29  OpenCreditLines                      3872 non-null   float64       \n",
            " 30  TotalCreditLinespast7years           4117 non-null   float64       \n",
            " 31  OpenRevolvingAccounts                4145 non-null   int64         \n",
            " 32  OpenRevolvingMonthlyPayment          4145 non-null   float64       \n",
            " 33  InquiriesLast6Months                 4117 non-null   float64       \n",
            " 34  TotalInquiries                       4100 non-null   float64       \n",
            " 35  CurrentDelinquencies                 4117 non-null   float64       \n",
            " 36  AmountDelinquent                     3872 non-null   float64       \n",
            " 37  DelinquenciesLast7Years              4105 non-null   float64       \n",
            " 38  PublicRecordsLast10Years             4117 non-null   float64       \n",
            " 39  PublicRecordsLast12Months            3872 non-null   float64       \n",
            " 40  RevolvingCreditBalance               3872 non-null   float64       \n",
            " 41  BankcardUtilization                  3872 non-null   float64       \n",
            " 42  AvailableBankcardCredit              3875 non-null   float64       \n",
            " 43  TotalTrades                          3875 non-null   float64       \n",
            " 44  TradesNeverDelinquent (percentage)   3875 non-null   float64       \n",
            " 45  TradesOpenedLast6Months              3875 non-null   float64       \n",
            " 46  DebtToIncomeRatio                    3803 non-null   float64       \n",
            " 47  IncomeRange                          4145 non-null   object        \n",
            " 48  IncomeVerifiable                     4145 non-null   bool          \n",
            " 49  StatedMonthlyIncome                  4145 non-null   float64       \n",
            " 50  LoanKey                              4145 non-null   object        \n",
            " 51  TotalProsperLoans                    800 non-null    float64       \n",
            " 52  TotalProsperPaymentsBilled           800 non-null    float64       \n",
            " 53  OnTimeProsperPayments                800 non-null    float64       \n",
            " 54  ProsperPaymentsLessThanOneMonthLate  800 non-null    float64       \n",
            " 55  ProsperPaymentsOneMonthPlusLate      800 non-null    float64       \n",
            " 56  ProsperPrincipalBorrowed             800 non-null    float64       \n",
            " 57  ProsperPrincipalOutstanding          800 non-null    float64       \n",
            " 58  ScorexChangeAtTimeOfListing          662 non-null    float64       \n",
            " 59  LoanCurrentDaysDelinquent            4145 non-null   int64         \n",
            " 60  LoanFirstDefaultedCycleNumber        592 non-null    float64       \n",
            " 61  LoanMonthsSinceOrigination           4145 non-null   int64         \n",
            " 62  LoanNumber                           4145 non-null   int64         \n",
            " 63  LoanOriginalAmount                   4145 non-null   int64         \n",
            " 64  LoanOriginationDate                  4145 non-null   object        \n",
            " 65  LoanOriginationQuarter               4145 non-null   object        \n",
            " 66  MemberKey                            4145 non-null   object        \n",
            " 67  MonthlyLoanPayment                   4145 non-null   float64       \n",
            " 68  LP_CustomerPayments                  4145 non-null   float64       \n",
            " 69  LP_CustomerPrincipalPayments         4145 non-null   float64       \n",
            " 70  LP_InterestandFees                   4145 non-null   float64       \n",
            " 71  LP_ServiceFees                       4145 non-null   float64       \n",
            " 72  LP_CollectionFees                    4145 non-null   float64       \n",
            " 73  LP_GrossPrincipalLoss                4145 non-null   float64       \n",
            " 74  LP_NetPrincipalLoss                  4145 non-null   float64       \n",
            " 75  LP_NonPrincipalRecoverypayments      4145 non-null   float64       \n",
            " 76  PercentFunded                        4145 non-null   float64       \n",
            " 77  Recommendations                      4145 non-null   int64         \n",
            " 78  InvestmentFromFriendsCount           4145 non-null   int64         \n",
            " 79  InvestmentFromFriendsAmount          4145 non-null   float64       \n",
            " 80  Investors                            4145 non-null   int64         \n",
            "dtypes: bool(3), datetime64[ns](1), float64(50), int64(11), object(16)\n",
            "memory usage: 2.5+ MB\n"
          ]
        }
      ]
    },
    {
      "cell_type": "code",
      "source": [
        "df.dtypes #data types of the values"
      ],
      "metadata": {
        "colab": {
          "base_uri": "https://localhost:8080/"
        },
        "id": "REOf-708ZHmP",
        "outputId": "8171ecb9-af0f-4cb8-9034-470bde6c3e4a"
      },
      "execution_count": null,
      "outputs": [
        {
          "output_type": "execute_result",
          "data": {
            "text/plain": [
              "ListingKey                             object\n",
              "ListingNumber                           int64\n",
              "ListingCreationDate            datetime64[ns]\n",
              "CreditGrade                            object\n",
              "Term                                    int64\n",
              "                                    ...      \n",
              "PercentFunded                         float64\n",
              "Recommendations                         int64\n",
              "InvestmentFromFriendsCount              int64\n",
              "InvestmentFromFriendsAmount           float64\n",
              "Investors                               int64\n",
              "Length: 81, dtype: object"
            ]
          },
          "metadata": {},
          "execution_count": 39
        }
      ]
    },
    {
      "cell_type": "markdown",
      "source": [
        "**Data Cleaning**"
      ],
      "metadata": {
        "id": "50dR0tsCarI2"
      }
    },
    {
      "cell_type": "code",
      "source": [
        "Null_Counts = df.isnull().sum()\n",
        "print(\"The missing values in the each column are: \", Null_Counts)"
      ],
      "metadata": {
        "colab": {
          "base_uri": "https://localhost:8080/"
        },
        "id": "ljoxbvQV2gFV",
        "outputId": "59c0fb33-4984-471c-b095-2d39eef9f59d"
      },
      "execution_count": null,
      "outputs": [
        {
          "output_type": "stream",
          "name": "stdout",
          "text": [
            "The missing values in the each column are:  ListingKey                        0\n",
            "ListingNumber                     0\n",
            "ListingCreationDate               0\n",
            "CreditGrade                    3125\n",
            "Term                              0\n",
            "                               ... \n",
            "PercentFunded                     0\n",
            "Recommendations                   0\n",
            "InvestmentFromFriendsCount        0\n",
            "InvestmentFromFriendsAmount       0\n",
            "Investors                         0\n",
            "Length: 81, dtype: int64\n"
          ]
        }
      ]
    },
    {
      "cell_type": "code",
      "source": [
        "sns.heatmap(df.isnull(), yticklabels=False ,annot=True ) #heat map after Nulling the values"
      ],
      "metadata": {
        "id": "WbChtUkGkKPI"
      },
      "execution_count": null,
      "outputs": []
    },
    {
      "cell_type": "code",
      "source": [
        "df.dropna() #Dropping the Null Values"
      ],
      "metadata": {
        "colab": {
          "base_uri": "https://localhost:8080/",
          "height": 143
        },
        "id": "4r7Jh1Pv2-4M",
        "outputId": "7ab4622f-d99f-429e-a182-c2ad42827b41"
      },
      "execution_count": null,
      "outputs": [
        {
          "output_type": "execute_result",
          "data": {
            "text/plain": [
              "Empty DataFrame\n",
              "Columns: [ListingKey, ListingNumber, ListingCreationDate, CreditGrade, Term, LoanStatus, ClosedDate, BorrowerAPR, BorrowerRate, LenderYield, EstimatedEffectiveYield, EstimatedLoss, EstimatedReturn, ProsperRating (numeric), ProsperRating (Alpha), ProsperScore, ListingCategory (numeric), BorrowerState, Occupation, EmploymentStatus, EmploymentStatusDuration, IsBorrowerHomeowner, CurrentlyInGroup, GroupKey, DateCreditPulled, CreditScoreRangeLower, CreditScoreRangeUpper, FirstRecordedCreditLine, CurrentCreditLines, OpenCreditLines, TotalCreditLinespast7years, OpenRevolvingAccounts, OpenRevolvingMonthlyPayment, InquiriesLast6Months, TotalInquiries, CurrentDelinquencies, AmountDelinquent, DelinquenciesLast7Years, PublicRecordsLast10Years, PublicRecordsLast12Months, RevolvingCreditBalance, BankcardUtilization, AvailableBankcardCredit, TotalTrades, TradesNeverDelinquent (percentage), TradesOpenedLast6Months, DebtToIncomeRatio, IncomeRange, IncomeVerifiable, StatedMonthlyIncome, LoanKey, TotalProsperLoans, TotalProsperPaymentsBilled, OnTimeProsperPayments, ProsperPaymentsLessThanOneMonthLate, ProsperPaymentsOneMonthPlusLate, ProsperPrincipalBorrowed, ProsperPrincipalOutstanding, ScorexChangeAtTimeOfListing, LoanCurrentDaysDelinquent, LoanFirstDefaultedCycleNumber, LoanMonthsSinceOrigination, LoanNumber, LoanOriginalAmount, LoanOriginationDate, LoanOriginationQuarter, MemberKey, MonthlyLoanPayment, LP_CustomerPayments, LP_CustomerPrincipalPayments, LP_InterestandFees, LP_ServiceFees, LP_CollectionFees, LP_GrossPrincipalLoss, LP_NetPrincipalLoss, LP_NonPrincipalRecoverypayments, PercentFunded, Recommendations, InvestmentFromFriendsCount, InvestmentFromFriendsAmount, Investors]\n",
              "Index: []\n",
              "\n",
              "[0 rows x 81 columns]"
            ],
            "text/html": [
              "\n",
              "  <div id=\"df-c0f2c0de-2fa1-48d2-9797-114fb75dd6cb\">\n",
              "    <div class=\"colab-df-container\">\n",
              "      <div>\n",
              "<style scoped>\n",
              "    .dataframe tbody tr th:only-of-type {\n",
              "        vertical-align: middle;\n",
              "    }\n",
              "\n",
              "    .dataframe tbody tr th {\n",
              "        vertical-align: top;\n",
              "    }\n",
              "\n",
              "    .dataframe thead th {\n",
              "        text-align: right;\n",
              "    }\n",
              "</style>\n",
              "<table border=\"1\" class=\"dataframe\">\n",
              "  <thead>\n",
              "    <tr style=\"text-align: right;\">\n",
              "      <th></th>\n",
              "      <th>ListingKey</th>\n",
              "      <th>ListingNumber</th>\n",
              "      <th>ListingCreationDate</th>\n",
              "      <th>CreditGrade</th>\n",
              "      <th>Term</th>\n",
              "      <th>LoanStatus</th>\n",
              "      <th>ClosedDate</th>\n",
              "      <th>BorrowerAPR</th>\n",
              "      <th>BorrowerRate</th>\n",
              "      <th>LenderYield</th>\n",
              "      <th>...</th>\n",
              "      <th>LP_ServiceFees</th>\n",
              "      <th>LP_CollectionFees</th>\n",
              "      <th>LP_GrossPrincipalLoss</th>\n",
              "      <th>LP_NetPrincipalLoss</th>\n",
              "      <th>LP_NonPrincipalRecoverypayments</th>\n",
              "      <th>PercentFunded</th>\n",
              "      <th>Recommendations</th>\n",
              "      <th>InvestmentFromFriendsCount</th>\n",
              "      <th>InvestmentFromFriendsAmount</th>\n",
              "      <th>Investors</th>\n",
              "    </tr>\n",
              "  </thead>\n",
              "  <tbody>\n",
              "  </tbody>\n",
              "</table>\n",
              "<p>0 rows × 81 columns</p>\n",
              "</div>\n",
              "      <button class=\"colab-df-convert\" onclick=\"convertToInteractive('df-c0f2c0de-2fa1-48d2-9797-114fb75dd6cb')\"\n",
              "              title=\"Convert this dataframe to an interactive table.\"\n",
              "              style=\"display:none;\">\n",
              "        \n",
              "  <svg xmlns=\"http://www.w3.org/2000/svg\" height=\"24px\"viewBox=\"0 0 24 24\"\n",
              "       width=\"24px\">\n",
              "    <path d=\"M0 0h24v24H0V0z\" fill=\"none\"/>\n",
              "    <path d=\"M18.56 5.44l.94 2.06.94-2.06 2.06-.94-2.06-.94-.94-2.06-.94 2.06-2.06.94zm-11 1L8.5 8.5l.94-2.06 2.06-.94-2.06-.94L8.5 2.5l-.94 2.06-2.06.94zm10 10l.94 2.06.94-2.06 2.06-.94-2.06-.94-.94-2.06-.94 2.06-2.06.94z\"/><path d=\"M17.41 7.96l-1.37-1.37c-.4-.4-.92-.59-1.43-.59-.52 0-1.04.2-1.43.59L10.3 9.45l-7.72 7.72c-.78.78-.78 2.05 0 2.83L4 21.41c.39.39.9.59 1.41.59.51 0 1.02-.2 1.41-.59l7.78-7.78 2.81-2.81c.8-.78.8-2.07 0-2.86zM5.41 20L4 18.59l7.72-7.72 1.47 1.35L5.41 20z\"/>\n",
              "  </svg>\n",
              "      </button>\n",
              "      \n",
              "  <style>\n",
              "    .colab-df-container {\n",
              "      display:flex;\n",
              "      flex-wrap:wrap;\n",
              "      gap: 12px;\n",
              "    }\n",
              "\n",
              "    .colab-df-convert {\n",
              "      background-color: #E8F0FE;\n",
              "      border: none;\n",
              "      border-radius: 50%;\n",
              "      cursor: pointer;\n",
              "      display: none;\n",
              "      fill: #1967D2;\n",
              "      height: 32px;\n",
              "      padding: 0 0 0 0;\n",
              "      width: 32px;\n",
              "    }\n",
              "\n",
              "    .colab-df-convert:hover {\n",
              "      background-color: #E2EBFA;\n",
              "      box-shadow: 0px 1px 2px rgba(60, 64, 67, 0.3), 0px 1px 3px 1px rgba(60, 64, 67, 0.15);\n",
              "      fill: #174EA6;\n",
              "    }\n",
              "\n",
              "    [theme=dark] .colab-df-convert {\n",
              "      background-color: #3B4455;\n",
              "      fill: #D2E3FC;\n",
              "    }\n",
              "\n",
              "    [theme=dark] .colab-df-convert:hover {\n",
              "      background-color: #434B5C;\n",
              "      box-shadow: 0px 1px 3px 1px rgba(0, 0, 0, 0.15);\n",
              "      filter: drop-shadow(0px 1px 2px rgba(0, 0, 0, 0.3));\n",
              "      fill: #FFFFFF;\n",
              "    }\n",
              "  </style>\n",
              "\n",
              "      <script>\n",
              "        const buttonEl =\n",
              "          document.querySelector('#df-c0f2c0de-2fa1-48d2-9797-114fb75dd6cb button.colab-df-convert');\n",
              "        buttonEl.style.display =\n",
              "          google.colab.kernel.accessAllowed ? 'block' : 'none';\n",
              "\n",
              "        async function convertToInteractive(key) {\n",
              "          const element = document.querySelector('#df-c0f2c0de-2fa1-48d2-9797-114fb75dd6cb');\n",
              "          const dataTable =\n",
              "            await google.colab.kernel.invokeFunction('convertToInteractive',\n",
              "                                                     [key], {});\n",
              "          if (!dataTable) return;\n",
              "\n",
              "          const docLinkHtml = 'Like what you see? Visit the ' +\n",
              "            '<a target=\"_blank\" href=https://colab.research.google.com/notebooks/data_table.ipynb>data table notebook</a>'\n",
              "            + ' to learn more about interactive tables.';\n",
              "          element.innerHTML = '';\n",
              "          dataTable['output_type'] = 'display_data';\n",
              "          await google.colab.output.renderOutput(dataTable, element);\n",
              "          const docLink = document.createElement('div');\n",
              "          docLink.innerHTML = docLinkHtml;\n",
              "          element.appendChild(docLink);\n",
              "        }\n",
              "      </script>\n",
              "    </div>\n",
              "  </div>\n",
              "  "
            ]
          },
          "metadata": {},
          "execution_count": 10
        }
      ]
    },
    {
      "cell_type": "code",
      "source": [
        "drop_columns = df.dropna(axis=1)\n",
        "drop_columns.head()   #Dropping the columns with null values"
      ],
      "metadata": {
        "colab": {
          "base_uri": "https://localhost:8080/",
          "height": 404
        },
        "id": "sXgXwJab3DVM",
        "outputId": "80404193-fb5f-4d3d-8764-ca78a63fca04"
      },
      "execution_count": null,
      "outputs": [
        {
          "output_type": "execute_result",
          "data": {
            "text/plain": [
              "                ListingKey  ListingNumber     ListingCreationDate  Term  \\\n",
              "0  1021339766868145413AB3B         193129 2007-08-26 19:09:29.263    36   \n",
              "1  10273602499503308B223C1        1209647 2014-02-27 08:28:07.900    36   \n",
              "2  0EE9337825851032864889A          81716 2007-01-05 15:00:47.090    36   \n",
              "3  0EF5356002482715299901A         658116 2012-10-22 11:02:35.010    36   \n",
              "4  0F023589499656230C5E3E2         909464 2013-09-14 18:38:39.097    36   \n",
              "\n",
              "  LoanStatus  BorrowerRate  LenderYield  ListingCategory (numeric)  \\\n",
              "0  Completed        0.1580       0.1380                          0   \n",
              "1    Current        0.0920       0.0820                          2   \n",
              "2  Completed        0.2750       0.2400                          0   \n",
              "3    Current        0.0974       0.0874                         16   \n",
              "4    Current        0.2085       0.1985                          2   \n",
              "\n",
              "   IsBorrowerHomeowner  CurrentlyInGroup  ... LP_ServiceFees  \\\n",
              "0                 True              True  ...        -133.18   \n",
              "1                False             False  ...           0.00   \n",
              "2                False              True  ...         -24.20   \n",
              "3                 True             False  ...        -108.01   \n",
              "4                 True             False  ...         -60.27   \n",
              "\n",
              "   LP_CollectionFees  LP_GrossPrincipalLoss LP_NetPrincipalLoss  \\\n",
              "0                0.0                    0.0                 0.0   \n",
              "1                0.0                    0.0                 0.0   \n",
              "2                0.0                    0.0                 0.0   \n",
              "3                0.0                    0.0                 0.0   \n",
              "4                0.0                    0.0                 0.0   \n",
              "\n",
              "   LP_NonPrincipalRecoverypayments  PercentFunded Recommendations  \\\n",
              "0                              0.0            1.0               0   \n",
              "1                              0.0            1.0               0   \n",
              "2                              0.0            1.0               0   \n",
              "3                              0.0            1.0               0   \n",
              "4                              0.0            1.0               0   \n",
              "\n",
              "   InvestmentFromFriendsCount  InvestmentFromFriendsAmount  Investors  \n",
              "0                           0                          0.0        258  \n",
              "1                           0                          0.0          1  \n",
              "2                           0                          0.0         41  \n",
              "3                           0                          0.0        158  \n",
              "4                           0                          0.0         20  \n",
              "\n",
              "[5 rows x 38 columns]"
            ],
            "text/html": [
              "\n",
              "  <div id=\"df-22296500-fee5-4337-a2bb-01101098a05f\">\n",
              "    <div class=\"colab-df-container\">\n",
              "      <div>\n",
              "<style scoped>\n",
              "    .dataframe tbody tr th:only-of-type {\n",
              "        vertical-align: middle;\n",
              "    }\n",
              "\n",
              "    .dataframe tbody tr th {\n",
              "        vertical-align: top;\n",
              "    }\n",
              "\n",
              "    .dataframe thead th {\n",
              "        text-align: right;\n",
              "    }\n",
              "</style>\n",
              "<table border=\"1\" class=\"dataframe\">\n",
              "  <thead>\n",
              "    <tr style=\"text-align: right;\">\n",
              "      <th></th>\n",
              "      <th>ListingKey</th>\n",
              "      <th>ListingNumber</th>\n",
              "      <th>ListingCreationDate</th>\n",
              "      <th>Term</th>\n",
              "      <th>LoanStatus</th>\n",
              "      <th>BorrowerRate</th>\n",
              "      <th>LenderYield</th>\n",
              "      <th>ListingCategory (numeric)</th>\n",
              "      <th>IsBorrowerHomeowner</th>\n",
              "      <th>CurrentlyInGroup</th>\n",
              "      <th>...</th>\n",
              "      <th>LP_ServiceFees</th>\n",
              "      <th>LP_CollectionFees</th>\n",
              "      <th>LP_GrossPrincipalLoss</th>\n",
              "      <th>LP_NetPrincipalLoss</th>\n",
              "      <th>LP_NonPrincipalRecoverypayments</th>\n",
              "      <th>PercentFunded</th>\n",
              "      <th>Recommendations</th>\n",
              "      <th>InvestmentFromFriendsCount</th>\n",
              "      <th>InvestmentFromFriendsAmount</th>\n",
              "      <th>Investors</th>\n",
              "    </tr>\n",
              "  </thead>\n",
              "  <tbody>\n",
              "    <tr>\n",
              "      <th>0</th>\n",
              "      <td>1021339766868145413AB3B</td>\n",
              "      <td>193129</td>\n",
              "      <td>2007-08-26 19:09:29.263</td>\n",
              "      <td>36</td>\n",
              "      <td>Completed</td>\n",
              "      <td>0.1580</td>\n",
              "      <td>0.1380</td>\n",
              "      <td>0</td>\n",
              "      <td>True</td>\n",
              "      <td>True</td>\n",
              "      <td>...</td>\n",
              "      <td>-133.18</td>\n",
              "      <td>0.0</td>\n",
              "      <td>0.0</td>\n",
              "      <td>0.0</td>\n",
              "      <td>0.0</td>\n",
              "      <td>1.0</td>\n",
              "      <td>0</td>\n",
              "      <td>0</td>\n",
              "      <td>0.0</td>\n",
              "      <td>258</td>\n",
              "    </tr>\n",
              "    <tr>\n",
              "      <th>1</th>\n",
              "      <td>10273602499503308B223C1</td>\n",
              "      <td>1209647</td>\n",
              "      <td>2014-02-27 08:28:07.900</td>\n",
              "      <td>36</td>\n",
              "      <td>Current</td>\n",
              "      <td>0.0920</td>\n",
              "      <td>0.0820</td>\n",
              "      <td>2</td>\n",
              "      <td>False</td>\n",
              "      <td>False</td>\n",
              "      <td>...</td>\n",
              "      <td>0.00</td>\n",
              "      <td>0.0</td>\n",
              "      <td>0.0</td>\n",
              "      <td>0.0</td>\n",
              "      <td>0.0</td>\n",
              "      <td>1.0</td>\n",
              "      <td>0</td>\n",
              "      <td>0</td>\n",
              "      <td>0.0</td>\n",
              "      <td>1</td>\n",
              "    </tr>\n",
              "    <tr>\n",
              "      <th>2</th>\n",
              "      <td>0EE9337825851032864889A</td>\n",
              "      <td>81716</td>\n",
              "      <td>2007-01-05 15:00:47.090</td>\n",
              "      <td>36</td>\n",
              "      <td>Completed</td>\n",
              "      <td>0.2750</td>\n",
              "      <td>0.2400</td>\n",
              "      <td>0</td>\n",
              "      <td>False</td>\n",
              "      <td>True</td>\n",
              "      <td>...</td>\n",
              "      <td>-24.20</td>\n",
              "      <td>0.0</td>\n",
              "      <td>0.0</td>\n",
              "      <td>0.0</td>\n",
              "      <td>0.0</td>\n",
              "      <td>1.0</td>\n",
              "      <td>0</td>\n",
              "      <td>0</td>\n",
              "      <td>0.0</td>\n",
              "      <td>41</td>\n",
              "    </tr>\n",
              "    <tr>\n",
              "      <th>3</th>\n",
              "      <td>0EF5356002482715299901A</td>\n",
              "      <td>658116</td>\n",
              "      <td>2012-10-22 11:02:35.010</td>\n",
              "      <td>36</td>\n",
              "      <td>Current</td>\n",
              "      <td>0.0974</td>\n",
              "      <td>0.0874</td>\n",
              "      <td>16</td>\n",
              "      <td>True</td>\n",
              "      <td>False</td>\n",
              "      <td>...</td>\n",
              "      <td>-108.01</td>\n",
              "      <td>0.0</td>\n",
              "      <td>0.0</td>\n",
              "      <td>0.0</td>\n",
              "      <td>0.0</td>\n",
              "      <td>1.0</td>\n",
              "      <td>0</td>\n",
              "      <td>0</td>\n",
              "      <td>0.0</td>\n",
              "      <td>158</td>\n",
              "    </tr>\n",
              "    <tr>\n",
              "      <th>4</th>\n",
              "      <td>0F023589499656230C5E3E2</td>\n",
              "      <td>909464</td>\n",
              "      <td>2013-09-14 18:38:39.097</td>\n",
              "      <td>36</td>\n",
              "      <td>Current</td>\n",
              "      <td>0.2085</td>\n",
              "      <td>0.1985</td>\n",
              "      <td>2</td>\n",
              "      <td>True</td>\n",
              "      <td>False</td>\n",
              "      <td>...</td>\n",
              "      <td>-60.27</td>\n",
              "      <td>0.0</td>\n",
              "      <td>0.0</td>\n",
              "      <td>0.0</td>\n",
              "      <td>0.0</td>\n",
              "      <td>1.0</td>\n",
              "      <td>0</td>\n",
              "      <td>0</td>\n",
              "      <td>0.0</td>\n",
              "      <td>20</td>\n",
              "    </tr>\n",
              "  </tbody>\n",
              "</table>\n",
              "<p>5 rows × 38 columns</p>\n",
              "</div>\n",
              "      <button class=\"colab-df-convert\" onclick=\"convertToInteractive('df-22296500-fee5-4337-a2bb-01101098a05f')\"\n",
              "              title=\"Convert this dataframe to an interactive table.\"\n",
              "              style=\"display:none;\">\n",
              "        \n",
              "  <svg xmlns=\"http://www.w3.org/2000/svg\" height=\"24px\"viewBox=\"0 0 24 24\"\n",
              "       width=\"24px\">\n",
              "    <path d=\"M0 0h24v24H0V0z\" fill=\"none\"/>\n",
              "    <path d=\"M18.56 5.44l.94 2.06.94-2.06 2.06-.94-2.06-.94-.94-2.06-.94 2.06-2.06.94zm-11 1L8.5 8.5l.94-2.06 2.06-.94-2.06-.94L8.5 2.5l-.94 2.06-2.06.94zm10 10l.94 2.06.94-2.06 2.06-.94-2.06-.94-.94-2.06-.94 2.06-2.06.94z\"/><path d=\"M17.41 7.96l-1.37-1.37c-.4-.4-.92-.59-1.43-.59-.52 0-1.04.2-1.43.59L10.3 9.45l-7.72 7.72c-.78.78-.78 2.05 0 2.83L4 21.41c.39.39.9.59 1.41.59.51 0 1.02-.2 1.41-.59l7.78-7.78 2.81-2.81c.8-.78.8-2.07 0-2.86zM5.41 20L4 18.59l7.72-7.72 1.47 1.35L5.41 20z\"/>\n",
              "  </svg>\n",
              "      </button>\n",
              "      \n",
              "  <style>\n",
              "    .colab-df-container {\n",
              "      display:flex;\n",
              "      flex-wrap:wrap;\n",
              "      gap: 12px;\n",
              "    }\n",
              "\n",
              "    .colab-df-convert {\n",
              "      background-color: #E8F0FE;\n",
              "      border: none;\n",
              "      border-radius: 50%;\n",
              "      cursor: pointer;\n",
              "      display: none;\n",
              "      fill: #1967D2;\n",
              "      height: 32px;\n",
              "      padding: 0 0 0 0;\n",
              "      width: 32px;\n",
              "    }\n",
              "\n",
              "    .colab-df-convert:hover {\n",
              "      background-color: #E2EBFA;\n",
              "      box-shadow: 0px 1px 2px rgba(60, 64, 67, 0.3), 0px 1px 3px 1px rgba(60, 64, 67, 0.15);\n",
              "      fill: #174EA6;\n",
              "    }\n",
              "\n",
              "    [theme=dark] .colab-df-convert {\n",
              "      background-color: #3B4455;\n",
              "      fill: #D2E3FC;\n",
              "    }\n",
              "\n",
              "    [theme=dark] .colab-df-convert:hover {\n",
              "      background-color: #434B5C;\n",
              "      box-shadow: 0px 1px 3px 1px rgba(0, 0, 0, 0.15);\n",
              "      filter: drop-shadow(0px 1px 2px rgba(0, 0, 0, 0.3));\n",
              "      fill: #FFFFFF;\n",
              "    }\n",
              "  </style>\n",
              "\n",
              "      <script>\n",
              "        const buttonEl =\n",
              "          document.querySelector('#df-22296500-fee5-4337-a2bb-01101098a05f button.colab-df-convert');\n",
              "        buttonEl.style.display =\n",
              "          google.colab.kernel.accessAllowed ? 'block' : 'none';\n",
              "\n",
              "        async function convertToInteractive(key) {\n",
              "          const element = document.querySelector('#df-22296500-fee5-4337-a2bb-01101098a05f');\n",
              "          const dataTable =\n",
              "            await google.colab.kernel.invokeFunction('convertToInteractive',\n",
              "                                                     [key], {});\n",
              "          if (!dataTable) return;\n",
              "\n",
              "          const docLinkHtml = 'Like what you see? Visit the ' +\n",
              "            '<a target=\"_blank\" href=https://colab.research.google.com/notebooks/data_table.ipynb>data table notebook</a>'\n",
              "            + ' to learn more about interactive tables.';\n",
              "          element.innerHTML = '';\n",
              "          dataTable['output_type'] = 'display_data';\n",
              "          await google.colab.output.renderOutput(dataTable, element);\n",
              "          const docLink = document.createElement('div');\n",
              "          docLink.innerHTML = docLinkHtml;\n",
              "          element.appendChild(docLink);\n",
              "        }\n",
              "      </script>\n",
              "    </div>\n",
              "  </div>\n",
              "  "
            ]
          },
          "metadata": {},
          "execution_count": 42
        }
      ]
    },
    {
      "cell_type": "code",
      "source": [
        "print(\"Columns in orignal datasets: \", df.shape[1])\n",
        "print(\"Columns after na's drop: \", drop_columns.shape[1])"
      ],
      "metadata": {
        "colab": {
          "base_uri": "https://localhost:8080/"
        },
        "id": "geg4B7oA4CTO",
        "outputId": "acba0a93-286f-465a-b7ce-44f33c8bdb0a"
      },
      "execution_count": null,
      "outputs": [
        {
          "output_type": "stream",
          "name": "stdout",
          "text": [
            "Columns in orignal datasets:  81\n",
            "Columns after na's drop:  38\n"
          ]
        }
      ]
    },
    {
      "cell_type": "code",
      "source": [
        "df.fillna(0) # filling the null values with zeros"
      ],
      "metadata": {
        "colab": {
          "base_uri": "https://localhost:8080/",
          "height": 661
        },
        "id": "cCJVCEIM60tM",
        "outputId": "d798b16e-b0cf-48d4-81a7-136cbec2faaf"
      },
      "execution_count": null,
      "outputs": [
        {
          "output_type": "execute_result",
          "data": {
            "text/plain": [
              "                     ListingKey  ListingNumber            ListingCreationDate  \\\n",
              "0       1021339766868145413AB3B         193129  2007-08-26 19:09:29.263000000   \n",
              "1       10273602499503308B223C1        1209647  2014-02-27 08:28:07.900000000   \n",
              "2       0EE9337825851032864889A          81716  2007-01-05 15:00:47.090000000   \n",
              "3       0EF5356002482715299901A         658116  2012-10-22 11:02:35.010000000   \n",
              "4       0F023589499656230C5E3E2         909464  2013-09-14 18:38:39.097000000   \n",
              "...                         ...            ...                            ...   \n",
              "113932  E6D9357655724827169606C         753087  2013-04-14 05:55:02.663000000   \n",
              "113933  E6DB353036033497292EE43         537216  2011-11-03 20:42:55.333000000   \n",
              "113934  E6E13596170052029692BB1        1069178  2013-12-13 05:49:12.703000000   \n",
              "113935  E6EB3531504622671970D9E         539056  2011-11-14 13:18:26.597000000   \n",
              "113936  E6ED3600409833199F711B7        1140093  2014-01-15 09:27:37.657000000   \n",
              "\n",
              "       CreditGrade  Term              LoanStatus           ClosedDate  \\\n",
              "0                C    36               Completed  2009-08-14 00:00:00   \n",
              "1                0    36                 Current                    0   \n",
              "2               HR    36               Completed  2009-12-17 00:00:00   \n",
              "3                0    36                 Current                    0   \n",
              "4                0    36                 Current                    0   \n",
              "...            ...   ...                     ...                  ...   \n",
              "113932           0    36                 Current                    0   \n",
              "113933           0    36  FinalPaymentInProgress                    0   \n",
              "113934           0    60                 Current                    0   \n",
              "113935           0    60               Completed  2013-08-13 00:00:00   \n",
              "113936           0    36                 Current                    0   \n",
              "\n",
              "        BorrowerAPR  BorrowerRate  LenderYield  ...  LP_ServiceFees  \\\n",
              "0           0.16516        0.1580       0.1380  ...         -133.18   \n",
              "1           0.12016        0.0920       0.0820  ...            0.00   \n",
              "2           0.28269        0.2750       0.2400  ...          -24.20   \n",
              "3           0.12528        0.0974       0.0874  ...         -108.01   \n",
              "4           0.24614        0.2085       0.1985  ...          -60.27   \n",
              "...             ...           ...          ...  ...             ...   \n",
              "113932      0.22354        0.1864       0.1764  ...          -75.58   \n",
              "113933      0.13220        0.1110       0.1010  ...          -30.05   \n",
              "113934      0.23984        0.2150       0.2050  ...          -16.91   \n",
              "113935      0.28408        0.2605       0.2505  ...         -235.05   \n",
              "113936      0.13189        0.1039       0.0939  ...           -1.70   \n",
              "\n",
              "        LP_CollectionFees  LP_GrossPrincipalLoss  LP_NetPrincipalLoss  \\\n",
              "0                     0.0                    0.0                  0.0   \n",
              "1                     0.0                    0.0                  0.0   \n",
              "2                     0.0                    0.0                  0.0   \n",
              "3                     0.0                    0.0                  0.0   \n",
              "4                     0.0                    0.0                  0.0   \n",
              "...                   ...                    ...                  ...   \n",
              "113932                0.0                    0.0                  0.0   \n",
              "113933                0.0                    0.0                  0.0   \n",
              "113934                0.0                    0.0                  0.0   \n",
              "113935                0.0                    0.0                  0.0   \n",
              "113936                0.0                    0.0                  0.0   \n",
              "\n",
              "       LP_NonPrincipalRecoverypayments  PercentFunded  Recommendations  \\\n",
              "0                                  0.0            1.0                0   \n",
              "1                                  0.0            1.0                0   \n",
              "2                                  0.0            1.0                0   \n",
              "3                                  0.0            1.0                0   \n",
              "4                                  0.0            1.0                0   \n",
              "...                                ...            ...              ...   \n",
              "113932                             0.0            1.0                0   \n",
              "113933                             0.0            1.0                0   \n",
              "113934                             0.0            1.0                0   \n",
              "113935                             0.0            1.0                0   \n",
              "113936                             0.0            1.0                0   \n",
              "\n",
              "       InvestmentFromFriendsCount InvestmentFromFriendsAmount Investors  \n",
              "0                               0                         0.0       258  \n",
              "1                               0                         0.0         1  \n",
              "2                               0                         0.0        41  \n",
              "3                               0                         0.0       158  \n",
              "4                               0                         0.0        20  \n",
              "...                           ...                         ...       ...  \n",
              "113932                          0                         0.0         1  \n",
              "113933                          0                         0.0        22  \n",
              "113934                          0                         0.0       119  \n",
              "113935                          0                         0.0       274  \n",
              "113936                          0                         0.0         1  \n",
              "\n",
              "[113937 rows x 81 columns]"
            ],
            "text/html": [
              "\n",
              "  <div id=\"df-8357fdcc-382b-420a-ae6f-821bfcbf60b3\">\n",
              "    <div class=\"colab-df-container\">\n",
              "      <div>\n",
              "<style scoped>\n",
              "    .dataframe tbody tr th:only-of-type {\n",
              "        vertical-align: middle;\n",
              "    }\n",
              "\n",
              "    .dataframe tbody tr th {\n",
              "        vertical-align: top;\n",
              "    }\n",
              "\n",
              "    .dataframe thead th {\n",
              "        text-align: right;\n",
              "    }\n",
              "</style>\n",
              "<table border=\"1\" class=\"dataframe\">\n",
              "  <thead>\n",
              "    <tr style=\"text-align: right;\">\n",
              "      <th></th>\n",
              "      <th>ListingKey</th>\n",
              "      <th>ListingNumber</th>\n",
              "      <th>ListingCreationDate</th>\n",
              "      <th>CreditGrade</th>\n",
              "      <th>Term</th>\n",
              "      <th>LoanStatus</th>\n",
              "      <th>ClosedDate</th>\n",
              "      <th>BorrowerAPR</th>\n",
              "      <th>BorrowerRate</th>\n",
              "      <th>LenderYield</th>\n",
              "      <th>...</th>\n",
              "      <th>LP_ServiceFees</th>\n",
              "      <th>LP_CollectionFees</th>\n",
              "      <th>LP_GrossPrincipalLoss</th>\n",
              "      <th>LP_NetPrincipalLoss</th>\n",
              "      <th>LP_NonPrincipalRecoverypayments</th>\n",
              "      <th>PercentFunded</th>\n",
              "      <th>Recommendations</th>\n",
              "      <th>InvestmentFromFriendsCount</th>\n",
              "      <th>InvestmentFromFriendsAmount</th>\n",
              "      <th>Investors</th>\n",
              "    </tr>\n",
              "  </thead>\n",
              "  <tbody>\n",
              "    <tr>\n",
              "      <th>0</th>\n",
              "      <td>1021339766868145413AB3B</td>\n",
              "      <td>193129</td>\n",
              "      <td>2007-08-26 19:09:29.263000000</td>\n",
              "      <td>C</td>\n",
              "      <td>36</td>\n",
              "      <td>Completed</td>\n",
              "      <td>2009-08-14 00:00:00</td>\n",
              "      <td>0.16516</td>\n",
              "      <td>0.1580</td>\n",
              "      <td>0.1380</td>\n",
              "      <td>...</td>\n",
              "      <td>-133.18</td>\n",
              "      <td>0.0</td>\n",
              "      <td>0.0</td>\n",
              "      <td>0.0</td>\n",
              "      <td>0.0</td>\n",
              "      <td>1.0</td>\n",
              "      <td>0</td>\n",
              "      <td>0</td>\n",
              "      <td>0.0</td>\n",
              "      <td>258</td>\n",
              "    </tr>\n",
              "    <tr>\n",
              "      <th>1</th>\n",
              "      <td>10273602499503308B223C1</td>\n",
              "      <td>1209647</td>\n",
              "      <td>2014-02-27 08:28:07.900000000</td>\n",
              "      <td>0</td>\n",
              "      <td>36</td>\n",
              "      <td>Current</td>\n",
              "      <td>0</td>\n",
              "      <td>0.12016</td>\n",
              "      <td>0.0920</td>\n",
              "      <td>0.0820</td>\n",
              "      <td>...</td>\n",
              "      <td>0.00</td>\n",
              "      <td>0.0</td>\n",
              "      <td>0.0</td>\n",
              "      <td>0.0</td>\n",
              "      <td>0.0</td>\n",
              "      <td>1.0</td>\n",
              "      <td>0</td>\n",
              "      <td>0</td>\n",
              "      <td>0.0</td>\n",
              "      <td>1</td>\n",
              "    </tr>\n",
              "    <tr>\n",
              "      <th>2</th>\n",
              "      <td>0EE9337825851032864889A</td>\n",
              "      <td>81716</td>\n",
              "      <td>2007-01-05 15:00:47.090000000</td>\n",
              "      <td>HR</td>\n",
              "      <td>36</td>\n",
              "      <td>Completed</td>\n",
              "      <td>2009-12-17 00:00:00</td>\n",
              "      <td>0.28269</td>\n",
              "      <td>0.2750</td>\n",
              "      <td>0.2400</td>\n",
              "      <td>...</td>\n",
              "      <td>-24.20</td>\n",
              "      <td>0.0</td>\n",
              "      <td>0.0</td>\n",
              "      <td>0.0</td>\n",
              "      <td>0.0</td>\n",
              "      <td>1.0</td>\n",
              "      <td>0</td>\n",
              "      <td>0</td>\n",
              "      <td>0.0</td>\n",
              "      <td>41</td>\n",
              "    </tr>\n",
              "    <tr>\n",
              "      <th>3</th>\n",
              "      <td>0EF5356002482715299901A</td>\n",
              "      <td>658116</td>\n",
              "      <td>2012-10-22 11:02:35.010000000</td>\n",
              "      <td>0</td>\n",
              "      <td>36</td>\n",
              "      <td>Current</td>\n",
              "      <td>0</td>\n",
              "      <td>0.12528</td>\n",
              "      <td>0.0974</td>\n",
              "      <td>0.0874</td>\n",
              "      <td>...</td>\n",
              "      <td>-108.01</td>\n",
              "      <td>0.0</td>\n",
              "      <td>0.0</td>\n",
              "      <td>0.0</td>\n",
              "      <td>0.0</td>\n",
              "      <td>1.0</td>\n",
              "      <td>0</td>\n",
              "      <td>0</td>\n",
              "      <td>0.0</td>\n",
              "      <td>158</td>\n",
              "    </tr>\n",
              "    <tr>\n",
              "      <th>4</th>\n",
              "      <td>0F023589499656230C5E3E2</td>\n",
              "      <td>909464</td>\n",
              "      <td>2013-09-14 18:38:39.097000000</td>\n",
              "      <td>0</td>\n",
              "      <td>36</td>\n",
              "      <td>Current</td>\n",
              "      <td>0</td>\n",
              "      <td>0.24614</td>\n",
              "      <td>0.2085</td>\n",
              "      <td>0.1985</td>\n",
              "      <td>...</td>\n",
              "      <td>-60.27</td>\n",
              "      <td>0.0</td>\n",
              "      <td>0.0</td>\n",
              "      <td>0.0</td>\n",
              "      <td>0.0</td>\n",
              "      <td>1.0</td>\n",
              "      <td>0</td>\n",
              "      <td>0</td>\n",
              "      <td>0.0</td>\n",
              "      <td>20</td>\n",
              "    </tr>\n",
              "    <tr>\n",
              "      <th>...</th>\n",
              "      <td>...</td>\n",
              "      <td>...</td>\n",
              "      <td>...</td>\n",
              "      <td>...</td>\n",
              "      <td>...</td>\n",
              "      <td>...</td>\n",
              "      <td>...</td>\n",
              "      <td>...</td>\n",
              "      <td>...</td>\n",
              "      <td>...</td>\n",
              "      <td>...</td>\n",
              "      <td>...</td>\n",
              "      <td>...</td>\n",
              "      <td>...</td>\n",
              "      <td>...</td>\n",
              "      <td>...</td>\n",
              "      <td>...</td>\n",
              "      <td>...</td>\n",
              "      <td>...</td>\n",
              "      <td>...</td>\n",
              "      <td>...</td>\n",
              "    </tr>\n",
              "    <tr>\n",
              "      <th>113932</th>\n",
              "      <td>E6D9357655724827169606C</td>\n",
              "      <td>753087</td>\n",
              "      <td>2013-04-14 05:55:02.663000000</td>\n",
              "      <td>0</td>\n",
              "      <td>36</td>\n",
              "      <td>Current</td>\n",
              "      <td>0</td>\n",
              "      <td>0.22354</td>\n",
              "      <td>0.1864</td>\n",
              "      <td>0.1764</td>\n",
              "      <td>...</td>\n",
              "      <td>-75.58</td>\n",
              "      <td>0.0</td>\n",
              "      <td>0.0</td>\n",
              "      <td>0.0</td>\n",
              "      <td>0.0</td>\n",
              "      <td>1.0</td>\n",
              "      <td>0</td>\n",
              "      <td>0</td>\n",
              "      <td>0.0</td>\n",
              "      <td>1</td>\n",
              "    </tr>\n",
              "    <tr>\n",
              "      <th>113933</th>\n",
              "      <td>E6DB353036033497292EE43</td>\n",
              "      <td>537216</td>\n",
              "      <td>2011-11-03 20:42:55.333000000</td>\n",
              "      <td>0</td>\n",
              "      <td>36</td>\n",
              "      <td>FinalPaymentInProgress</td>\n",
              "      <td>0</td>\n",
              "      <td>0.13220</td>\n",
              "      <td>0.1110</td>\n",
              "      <td>0.1010</td>\n",
              "      <td>...</td>\n",
              "      <td>-30.05</td>\n",
              "      <td>0.0</td>\n",
              "      <td>0.0</td>\n",
              "      <td>0.0</td>\n",
              "      <td>0.0</td>\n",
              "      <td>1.0</td>\n",
              "      <td>0</td>\n",
              "      <td>0</td>\n",
              "      <td>0.0</td>\n",
              "      <td>22</td>\n",
              "    </tr>\n",
              "    <tr>\n",
              "      <th>113934</th>\n",
              "      <td>E6E13596170052029692BB1</td>\n",
              "      <td>1069178</td>\n",
              "      <td>2013-12-13 05:49:12.703000000</td>\n",
              "      <td>0</td>\n",
              "      <td>60</td>\n",
              "      <td>Current</td>\n",
              "      <td>0</td>\n",
              "      <td>0.23984</td>\n",
              "      <td>0.2150</td>\n",
              "      <td>0.2050</td>\n",
              "      <td>...</td>\n",
              "      <td>-16.91</td>\n",
              "      <td>0.0</td>\n",
              "      <td>0.0</td>\n",
              "      <td>0.0</td>\n",
              "      <td>0.0</td>\n",
              "      <td>1.0</td>\n",
              "      <td>0</td>\n",
              "      <td>0</td>\n",
              "      <td>0.0</td>\n",
              "      <td>119</td>\n",
              "    </tr>\n",
              "    <tr>\n",
              "      <th>113935</th>\n",
              "      <td>E6EB3531504622671970D9E</td>\n",
              "      <td>539056</td>\n",
              "      <td>2011-11-14 13:18:26.597000000</td>\n",
              "      <td>0</td>\n",
              "      <td>60</td>\n",
              "      <td>Completed</td>\n",
              "      <td>2013-08-13 00:00:00</td>\n",
              "      <td>0.28408</td>\n",
              "      <td>0.2605</td>\n",
              "      <td>0.2505</td>\n",
              "      <td>...</td>\n",
              "      <td>-235.05</td>\n",
              "      <td>0.0</td>\n",
              "      <td>0.0</td>\n",
              "      <td>0.0</td>\n",
              "      <td>0.0</td>\n",
              "      <td>1.0</td>\n",
              "      <td>0</td>\n",
              "      <td>0</td>\n",
              "      <td>0.0</td>\n",
              "      <td>274</td>\n",
              "    </tr>\n",
              "    <tr>\n",
              "      <th>113936</th>\n",
              "      <td>E6ED3600409833199F711B7</td>\n",
              "      <td>1140093</td>\n",
              "      <td>2014-01-15 09:27:37.657000000</td>\n",
              "      <td>0</td>\n",
              "      <td>36</td>\n",
              "      <td>Current</td>\n",
              "      <td>0</td>\n",
              "      <td>0.13189</td>\n",
              "      <td>0.1039</td>\n",
              "      <td>0.0939</td>\n",
              "      <td>...</td>\n",
              "      <td>-1.70</td>\n",
              "      <td>0.0</td>\n",
              "      <td>0.0</td>\n",
              "      <td>0.0</td>\n",
              "      <td>0.0</td>\n",
              "      <td>1.0</td>\n",
              "      <td>0</td>\n",
              "      <td>0</td>\n",
              "      <td>0.0</td>\n",
              "      <td>1</td>\n",
              "    </tr>\n",
              "  </tbody>\n",
              "</table>\n",
              "<p>113937 rows × 81 columns</p>\n",
              "</div>\n",
              "      <button class=\"colab-df-convert\" onclick=\"convertToInteractive('df-8357fdcc-382b-420a-ae6f-821bfcbf60b3')\"\n",
              "              title=\"Convert this dataframe to an interactive table.\"\n",
              "              style=\"display:none;\">\n",
              "        \n",
              "  <svg xmlns=\"http://www.w3.org/2000/svg\" height=\"24px\"viewBox=\"0 0 24 24\"\n",
              "       width=\"24px\">\n",
              "    <path d=\"M0 0h24v24H0V0z\" fill=\"none\"/>\n",
              "    <path d=\"M18.56 5.44l.94 2.06.94-2.06 2.06-.94-2.06-.94-.94-2.06-.94 2.06-2.06.94zm-11 1L8.5 8.5l.94-2.06 2.06-.94-2.06-.94L8.5 2.5l-.94 2.06-2.06.94zm10 10l.94 2.06.94-2.06 2.06-.94-2.06-.94-.94-2.06-.94 2.06-2.06.94z\"/><path d=\"M17.41 7.96l-1.37-1.37c-.4-.4-.92-.59-1.43-.59-.52 0-1.04.2-1.43.59L10.3 9.45l-7.72 7.72c-.78.78-.78 2.05 0 2.83L4 21.41c.39.39.9.59 1.41.59.51 0 1.02-.2 1.41-.59l7.78-7.78 2.81-2.81c.8-.78.8-2.07 0-2.86zM5.41 20L4 18.59l7.72-7.72 1.47 1.35L5.41 20z\"/>\n",
              "  </svg>\n",
              "      </button>\n",
              "      \n",
              "  <style>\n",
              "    .colab-df-container {\n",
              "      display:flex;\n",
              "      flex-wrap:wrap;\n",
              "      gap: 12px;\n",
              "    }\n",
              "\n",
              "    .colab-df-convert {\n",
              "      background-color: #E8F0FE;\n",
              "      border: none;\n",
              "      border-radius: 50%;\n",
              "      cursor: pointer;\n",
              "      display: none;\n",
              "      fill: #1967D2;\n",
              "      height: 32px;\n",
              "      padding: 0 0 0 0;\n",
              "      width: 32px;\n",
              "    }\n",
              "\n",
              "    .colab-df-convert:hover {\n",
              "      background-color: #E2EBFA;\n",
              "      box-shadow: 0px 1px 2px rgba(60, 64, 67, 0.3), 0px 1px 3px 1px rgba(60, 64, 67, 0.15);\n",
              "      fill: #174EA6;\n",
              "    }\n",
              "\n",
              "    [theme=dark] .colab-df-convert {\n",
              "      background-color: #3B4455;\n",
              "      fill: #D2E3FC;\n",
              "    }\n",
              "\n",
              "    [theme=dark] .colab-df-convert:hover {\n",
              "      background-color: #434B5C;\n",
              "      box-shadow: 0px 1px 3px 1px rgba(0, 0, 0, 0.15);\n",
              "      filter: drop-shadow(0px 1px 2px rgba(0, 0, 0, 0.3));\n",
              "      fill: #FFFFFF;\n",
              "    }\n",
              "  </style>\n",
              "\n",
              "      <script>\n",
              "        const buttonEl =\n",
              "          document.querySelector('#df-8357fdcc-382b-420a-ae6f-821bfcbf60b3 button.colab-df-convert');\n",
              "        buttonEl.style.display =\n",
              "          google.colab.kernel.accessAllowed ? 'block' : 'none';\n",
              "\n",
              "        async function convertToInteractive(key) {\n",
              "          const element = document.querySelector('#df-8357fdcc-382b-420a-ae6f-821bfcbf60b3');\n",
              "          const dataTable =\n",
              "            await google.colab.kernel.invokeFunction('convertToInteractive',\n",
              "                                                     [key], {});\n",
              "          if (!dataTable) return;\n",
              "\n",
              "          const docLinkHtml = 'Like what you see? Visit the ' +\n",
              "            '<a target=\"_blank\" href=https://colab.research.google.com/notebooks/data_table.ipynb>data table notebook</a>'\n",
              "            + ' to learn more about interactive tables.';\n",
              "          element.innerHTML = '';\n",
              "          dataTable['output_type'] = 'display_data';\n",
              "          await google.colab.output.renderOutput(dataTable, element);\n",
              "          const docLink = document.createElement('div');\n",
              "          docLink.innerHTML = docLinkHtml;\n",
              "          element.appendChild(docLink);\n",
              "        }\n",
              "      </script>\n",
              "    </div>\n",
              "  </div>\n",
              "  "
            ]
          },
          "metadata": {},
          "execution_count": 9
        }
      ]
    },
    {
      "cell_type": "code",
      "source": [
        "df['ListingCreationDate'] = pd.to_datetime(df['ListingCreationDate'])"
      ],
      "metadata": {
        "id": "HXzCxHlHrVcN"
      },
      "execution_count": 21,
      "outputs": []
    },
    {
      "cell_type": "code",
      "source": [
        "df_loan = df[df['ProsperScore'].isnull()==False]"
      ],
      "metadata": {
        "id": "PR5KWiC0Lsg9"
      },
      "execution_count": 22,
      "outputs": []
    },
    {
      "cell_type": "markdown",
      "source": [
        "**Univariate Exploration**"
      ],
      "metadata": {
        "id": "2CD0ACHbcUpJ"
      }
    },
    {
      "cell_type": "code",
      "source": [
        "# Loan by term\n",
        "base_color = sns.color_palette()[0]\n",
        "sns.countplot(data=df_loan,x= 'Term',color=base_color);\n",
        "plt.title('Terms of loan (Months)')\n",
        "plt.xlabel('Term (Months)')"
      ],
      "metadata": {
        "colab": {
          "base_uri": "https://localhost:8080/",
          "height": 312
        },
        "id": "AI3Ih03oLEbq",
        "outputId": "cc88cdc0-8476-4c4f-8375-047a2f104a53"
      },
      "execution_count": 23,
      "outputs": [
        {
          "output_type": "execute_result",
          "data": {
            "text/plain": [
              "Text(0.5, 0, 'Term (Months)')"
            ]
          },
          "metadata": {},
          "execution_count": 23
        },
        {
          "output_type": "display_data",
          "data": {
            "text/plain": [
              "<Figure size 432x288 with 1 Axes>"
            ],
            "image/png": "[encoded data removed]"
          },
          "metadata": {
            "needs_background": "light"
          }
        }
      ]
    },
    {
      "cell_type": "code",
      "source": [
        "type_count = df_loan['LoanStatus'].value_counts()\n",
        "type_order = type_count.index\n"
      ],
      "metadata": {
        "id": "6GhQoaccPauO"
      },
      "execution_count": 24,
      "outputs": []
    },
    {
      "cell_type": "code",
      "source": [
        "type_count\n"
      ],
      "metadata": {
        "colab": {
          "base_uri": "https://localhost:8080/"
        },
        "id": "qOgej56qUJ4x",
        "outputId": "c3af3207-a06e-4831-e461-3e1972d8e02c"
      },
      "execution_count": 26,
      "outputs": [
        {
          "output_type": "execute_result",
          "data": {
            "text/plain": [
              "Current                   56576\n",
              "Completed                 19664\n",
              "Chargedoff                 5336\n",
              "Defaulted                  1005\n",
              "Past Due (1-15 days)        806\n",
              "Past Due (31-60 days)       363\n",
              "Past Due (61-90 days)       313\n",
              "Past Due (91-120 days)      304\n",
              "Past Due (16-30 days)       265\n",
              "FinalPaymentInProgress      205\n",
              "Past Due (>120 days)         16\n",
              "Name: LoanStatus, dtype: int64"
            ]
          },
          "metadata": {},
          "execution_count": 26
        }
      ]
    },
    {
      "cell_type": "code",
      "source": [
        "print(type_order)"
      ],
      "metadata": {
        "colab": {
          "base_uri": "https://localhost:8080/"
        },
        "id": "uZIqW8IbUdXL",
        "outputId": "db51e07e-18d1-4f44-fdef-c8f202e1b69c"
      },
      "execution_count": null,
      "outputs": [
        {
          "output_type": "stream",
          "name": "stdout",
          "text": [
            "Index(['Current', 'Completed', 'Chargedoff', 'Defaulted',\n",
            "       'Past Due (1-15 days)', 'Past Due (91-120 days)',\n",
            "       'Past Due (31-60 days)', 'Past Due (16-30 days)',\n",
            "       'Past Due (61-90 days)', 'FinalPaymentInProgress'],\n",
            "      dtype='object')\n"
          ]
        }
      ]
    },
    {
      "cell_type": "code",
      "source": [
        "# Count of Loan by Loan Status\n",
        "n_loan =df.shape[0]\n",
        "max_type_count = type_count[0]\n",
        "max_prop = max_type_count/n_loan"
      ],
      "metadata": {
        "id": "ONsS5eT4U914"
      },
      "execution_count": 27,
      "outputs": []
    },
    {
      "cell_type": "code",
      "source": [
        "tick_props = np.arange(0,max_prop,0.1)\n",
        "tick_names = ['{:0.2f}'.format(v) for v in tick_props]"
      ],
      "metadata": {
        "id": "V4d52-e9V2CH"
      },
      "execution_count": 28,
      "outputs": []
    },
    {
      "cell_type": "code",
      "source": [
        "tick_names"
      ],
      "metadata": {
        "colab": {
          "base_uri": "https://localhost:8080/"
        },
        "id": "fhpZR0fBV7VC",
        "outputId": "a29a5001-41ed-4ea7-cf09-d829a64a5a9f"
      },
      "execution_count": 29,
      "outputs": [
        {
          "output_type": "execute_result",
          "data": {
            "text/plain": [
              "['0.00', '0.10', '0.20', '0.30', '0.40']"
            ]
          },
          "metadata": {},
          "execution_count": 29
        }
      ]
    },
    {
      "cell_type": "markdown",
      "source": [
        "**Data Visualization**"
      ],
      "metadata": {
        "id": "C5spFwm4bfiR"
      }
    },
    {
      "cell_type": "code",
      "source": [
        "# Loan by term\n",
        "sns.countplot(data=df_loan,y='LoanStatus',color=base_color,order=type_order);\n",
        "plt.xticks(tick_props*n_loan,tick_names)\n",
        "plt.xlabel('proportion');\n",
        "plt.title('Proportion of Loan Status')"
      ],
      "metadata": {
        "colab": {
          "base_uri": "https://localhost:8080/",
          "height": 312
        },
        "id": "umIIvAQFWCiq",
        "outputId": "dc535d16-3d27-44dc-8f60-c87a98b4964e"
      },
      "execution_count": 30,
      "outputs": [
        {
          "output_type": "execute_result",
          "data": {
            "text/plain": [
              "Text(0.5, 1.0, 'Proportion of Loan Status')"
            ]
          },
          "metadata": {},
          "execution_count": 30
        },
        {
          "output_type": "display_data",
          "data": {
            "text/plain": [
              "<Figure size 432x288 with 1 Axes>"
            ],
            "image/png": "[encoded data removed]"
          },
          "metadata": {
            "needs_background": "light"
          }
        }
      ]
    },
    {
      "cell_type": "code",
      "source": [
        "df['ProsperScore'].describe()"
      ],
      "metadata": {
        "colab": {
          "base_uri": "https://localhost:8080/"
        },
        "id": "BdMOCqdDWP-v",
        "outputId": "abdac02f-a656-46ed-ef22-193c90e92ee8"
      },
      "execution_count": 31,
      "outputs": [
        {
          "output_type": "execute_result",
          "data": {
            "text/plain": [
              "count    84853.000000\n",
              "mean         5.950067\n",
              "std          2.376501\n",
              "min          1.000000\n",
              "25%          4.000000\n",
              "50%          6.000000\n",
              "75%          8.000000\n",
              "max         11.000000\n",
              "Name: ProsperScore, dtype: float64"
            ]
          },
          "metadata": {},
          "execution_count": 31
        }
      ]
    },
    {
      "cell_type": "code",
      "source": [
        "# Distribution of Prosper rating\n",
        "sns.countplot(data=df_loan,x='ProsperRating (numeric)',color=base_color);\n",
        "plt.title('Count of Prosper ratings')"
      ],
      "metadata": {
        "colab": {
          "base_uri": "https://localhost:8080/",
          "height": 312
        },
        "id": "A15WaSWMWZpj",
        "outputId": "c35fc4fa-084d-45d4-9ec7-edca319d5b17"
      },
      "execution_count": null,
      "outputs": [
        {
          "output_type": "execute_result",
          "data": {
            "text/plain": [
              "Text(0.5, 1.0, 'Count of Prosper ratings')"
            ]
          },
          "metadata": {},
          "execution_count": 25
        },
        {
          "output_type": "display_data",
          "data": {
            "text/plain": [
              "<Figure size 432x288 with 1 Axes>"
            ],
            "image/png": "[encoded data removed]"
          },
          "metadata": {
            "needs_background": "light"
          }
        }
      ]
    },
    {
      "cell_type": "code",
      "source": [
        "df_loan['Year'] = df_loan['LoanOriginationQuarter'].str[-4:]"
      ],
      "metadata": {
        "colab": {
          "base_uri": "https://localhost:8080/"
        },
        "id": "l5PT-cZKWkFf",
        "outputId": "b07170ae-e595-4f6b-b5a5-af8e71a7dd54"
      },
      "execution_count": null,
      "outputs": [
        {
          "output_type": "stream",
          "name": "stderr",
          "text": [
            "/usr/local/lib/python3.7/dist-packages/ipykernel_launcher.py:1: SettingWithCopyWarning: \n",
            "A value is trying to be set on a copy of a slice from a DataFrame.\n",
            "Try using .loc[row_indexer,col_indexer] = value instead\n",
            "\n",
            "See the caveats in the documentation: https://pandas.pydata.org/pandas-docs/stable/user_guide/indexing.html#returning-a-view-versus-a-copy\n",
            "  \"\"\"Entry point for launching an IPython kernel.\n"
          ]
        }
      ]
    },
    {
      "cell_type": "code",
      "source": [
        "# Number of loans per year\n",
        "sns.countplot(data=df_loan,x='Year',color=base_color);\n",
        "plt.title('Numner of Loans Sanctioned per year')\n",
        "plt.xticks(rotation=90);"
      ],
      "metadata": {
        "colab": {
          "base_uri": "https://localhost:8080/",
          "height": 311
        },
        "id": "3MvrfFkRW1VT",
        "outputId": "202b44a1-0519-4d38-a052-25c262e891df"
      },
      "execution_count": null,
      "outputs": [
        {
          "output_type": "display_data",
          "data": {
            "text/plain": [
              "<Figure size 432x288 with 1 Axes>"
            ],
            "image/png": "[encoded data removed]"
          },
          "metadata": {
            "needs_background": "light"
          }
        }
      ]
    },
    {
      "cell_type": "code",
      "source": [
        "df['LoanOriginalAmount'].describe()"
      ],
      "metadata": {
        "colab": {
          "base_uri": "https://localhost:8080/"
        },
        "id": "M9714UDvXH7R",
        "outputId": "34ca9382-71a5-4e91-cbba-91b155f8c2ae"
      },
      "execution_count": null,
      "outputs": [
        {
          "output_type": "execute_result",
          "data": {
            "text/plain": [
              "count     4145.000000\n",
              "mean      8423.761158\n",
              "std       6341.677506\n",
              "min       1000.000000\n",
              "25%       4000.000000\n",
              "50%       6500.000000\n",
              "75%      12000.000000\n",
              "max      35000.000000\n",
              "Name: LoanOriginalAmount, dtype: float64"
            ]
          },
          "metadata": {},
          "execution_count": 29
        }
      ]
    },
    {
      "cell_type": "code",
      "source": [
        "# Distribution of orginal Loan amount\n",
        "bins = np.arange(1000,35000,2000)\n",
        "plt.hist(data=df_loan,x='LoanOriginalAmount',color=base_color,bins=bins);\n",
        "plt.title('Distribution of orginal Loan amount')\n",
        "plt.xticks(rotation=90);"
      ],
      "metadata": {
        "colab": {
          "base_uri": "https://localhost:8080/",
          "height": 303
        },
        "id": "rmAoVfyhXSdq",
        "outputId": "d320bbc9-f549-4fe2-bf52-22143fedcd48"
      },
      "execution_count": null,
      "outputs": [
        {
          "output_type": "display_data",
          "data": {
            "text/plain": [
              "<Figure size 432x288 with 1 Axes>"
            ],
            "image/png": "[encoded data removed]"
          },
          "metadata": {
            "needs_background": "light"
          }
        }
      ]
    },
    {
      "cell_type": "code",
      "source": [
        "# Histogram for Credit Score ranges\n",
        "\n",
        "plt.figure(figsize = [13, 5]) \n",
        "\n",
        "\n",
        "plt.subplot(1, 2, 1)\n",
        "bins = np.arange(550, df_loan['CreditScoreRangeLower'].max(), 20)\n",
        "plt.hist(data = df_loan, x = 'CreditScoreRangeLower', bins = bins)\n",
        "plt.xticks(np.arange(550, 1000, 100))\n",
        "plt.title('CreditScoreRangeLower Count')\n",
        "plt.xlabel('CreditScoreRangeLower')\n",
        "plt.ylabel('count');\n",
        "\n",
        "plt.subplot(1, 2, 2)\n",
        "bins = np.arange(550, df_loan['CreditScoreRangeUpper'].max(), 20)\n",
        "plt.hist(data = df_loan, x = 'CreditScoreRangeUpper', bins = bins)\n",
        "plt.xticks(np.arange(550, 1000, 100))\n",
        "plt.title('CreditScoreRangeUpper Count')\n",
        "plt.xlabel('CreditScoreRangeUpper')\n",
        "plt.ylabel('count');"
      ],
      "metadata": {
        "colab": {
          "base_uri": "https://localhost:8080/",
          "height": 350
        },
        "id": "oP5D-PQXX9ul",
        "outputId": "82b5689c-d8f1-4750-a401-c23d054db0ea"
      },
      "execution_count": null,
      "outputs": [
        {
          "output_type": "display_data",
          "data": {
            "text/plain": [
              "<Figure size 936x360 with 2 Axes>"
            ],
            "image/png": "[encoded data removed]"
          },
          "metadata": {
            "needs_background": "light"
          }
        }
      ]
    },
    {
      "cell_type": "code",
      "source": [
        "df_loan['LenderYield'].describe()"
      ],
      "metadata": {
        "colab": {
          "base_uri": "https://localhost:8080/"
        },
        "id": "mCvdYzkiYJgS",
        "outputId": "2e83ed85-e3d8-47ed-eaba-9a2c481045d1"
      },
      "execution_count": null,
      "outputs": [
        {
          "output_type": "execute_result",
          "data": {
            "text/plain": [
              "count    3120.000000\n",
              "mean        0.186825\n",
              "std         0.074603\n",
              "min         0.032500\n",
              "25%         0.125900\n",
              "50%         0.177500\n",
              "75%         0.249900\n",
              "max         0.340000\n",
              "Name: LenderYield, dtype: float64"
            ]
          },
          "metadata": {},
          "execution_count": 32
        }
      ]
    },
    {
      "cell_type": "code",
      "source": [
        "# Distribution of lender yield\n",
        "bins = np.arange(.03,.34,.01)\n",
        "plt.hist(data=df_loan,x='LenderYield',color=base_color,bins=bins);\n",
        "plt.title('Distribution of Lender Yield')\n",
        "plt.xticks(rotation=90);"
      ],
      "metadata": {
        "colab": {
          "base_uri": "https://localhost:8080/",
          "height": 294
        },
        "id": "C5YEDpcWYSac",
        "outputId": "354ea85e-6b4d-4c7e-9941-0ca1c9cb163f"
      },
      "execution_count": null,
      "outputs": [
        {
          "output_type": "display_data",
          "data": {
            "text/plain": [
              "<Figure size 432x288 with 1 Axes>"
            ],
            "image/png": "[encoded data removed]"
          },
          "metadata": {
            "needs_background": "light"
          }
        }
      ]
    },
    {
      "cell_type": "code",
      "source": [
        "# Income range of borrower\n",
        "order = ['$0','$1-24,999','$25,000-49,999','$50,000-74,999','$75,000-99,999','$100,000+']\n",
        "sns.countplot(data=df_loan,x='IncomeRange',color=base_color,order=order);\n",
        "plt.title('Count of Income Range')\n",
        "plt.xticks(rotation=90);"
      ],
      "metadata": {
        "colab": {
          "base_uri": "https://localhost:8080/",
          "height": 365
        },
        "id": "V_EYwR0OYX4q",
        "outputId": "052c8f81-2f2c-4edb-e3a9-eb3a8a946823"
      },
      "execution_count": null,
      "outputs": [
        {
          "output_type": "display_data",
          "data": {
            "text/plain": [
              "<Figure size 432x288 with 1 Axes>"
            ],
            "image/png": "[encoded data removed]"
          },
          "metadata": {
            "needs_background": "light"
          }
        }
      ]
    },
    {
      "cell_type": "markdown",
      "source": [
        "**Correlation plot**"
      ],
      "metadata": {
        "id": "T8bKxf1uYmFv"
      }
    },
    {
      "cell_type": "code",
      "source": [
        "num_vars = ['BorrowerAPR', 'ProsperScore', 'LenderYield', \n",
        "            'StatedMonthlyIncome',  'CreditScoreRangeUpper','ProsperRating (numeric)','DebtToIncomeRatio']\n",
        "plt.figure(figsize = [8, 5])\n",
        "sns.heatmap(df_loan[num_vars].corr(), annot = True, fmt = '.3f',\n",
        "           cmap = 'vlag_r', center = 0)\n",
        "plt.title('Correlation Plot') \n",
        "plt.show()"
      ],
      "metadata": {
        "colab": {
          "base_uri": "https://localhost:8080/",
          "height": 447
        },
        "id": "F6Kt-bnLYkiF",
        "outputId": "a0c3f4ee-f7cb-4f68-b836-f886d58fe2ea"
      },
      "execution_count": null,
      "outputs": [
        {
          "output_type": "display_data",
          "data": {
            "text/plain": [
              "<Figure size 576x360 with 2 Axes>"
            ],
            "image/png": "[encoded data removed]"
          },
          "metadata": {
            "needs_background": "light"
          }
        }
      ]
    },
    {
      "cell_type": "code",
      "source": [
        "!apt install SelectKBest"
      ],
      "metadata": {
        "colab": {
          "base_uri": "https://localhost:8080/"
        },
        "id": "Nn8wpiDLdyGN",
        "outputId": "320e216c-71cc-4ddd-e1e2-c3b9949d77a3"
      },
      "execution_count": 5,
      "outputs": [
        {
          "output_type": "stream",
          "name": "stdout",
          "text": [
            "Reading package lists... Done\n",
            "Building dependency tree       \n",
            "Reading state information... Done\n",
            "E: Unable to locate package SelectKBest\n"
          ]
        }
      ]
    },
    {
      "cell_type": "markdown",
      "source": [
        "**Feature Engineering**"
      ],
      "metadata": {
        "id": "ofg75BAajVCD"
      }
    },
    {
      "cell_type": "code",
      "source": [
        "#Dropping the outlier rows with standard deviation\n",
        "factor = 3\n",
        "upper_lim = df['MonthlyLoanPayment'].mean () + df['MonthlyLoanPayment'].std () * factor\n",
        "lower_lim = df['MonthlyLoanPayment'].mean () - df['MonthlyLoanPayment'].std () * factor\n",
        "\n",
        "df = df[(df['MonthlyLoanPayment'] < upper_lim) & (df['MonthlyLoanPayment'] > lower_lim)]\n"
      ],
      "metadata": {
        "id": "YgMgYSFn53hf"
      },
      "execution_count": 32,
      "outputs": []
    },
    {
      "cell_type": "code",
      "source": [
        "#Dropping the outlier rows with Percentiles\n",
        "upper_lim = df['MonthlyLoanPayment'].quantile(.95)\n",
        "lower_lim = df['MonthlyLoanPayment'].quantile(.05)\n",
        "\n",
        "df = df[(df['MonthlyLoanPayment'] < upper_lim) & (df['MonthlyLoanPayment'] > lower_lim)]"
      ],
      "metadata": {
        "id": "BQnG43gHfWrU"
      },
      "execution_count": 33,
      "outputs": []
    },
    {
      "cell_type": "code",
      "source": [
        "#Capping the outlier rows with Percentiles\n",
        "upper_lim = df['MonthlyLoanPayment'].quantile(.95)\n",
        "lower_lim = df['MonthlyLoanPayment'].quantile(.05)\n",
        "df.loc[(df['MonthlyLoanPayment'] > upper_lim),'MonthlyLoanPayment'] = upper_lim\n",
        "df.loc[(df['MonthlyLoanPayment'] < lower_lim),'MonthlyLoanPayment'] = lower_lim"
      ],
      "metadata": {
        "id": "vk1_zCkzgg2d"
      },
      "execution_count": 34,
      "outputs": []
    },
    {
      "cell_type": "markdown",
      "source": [
        "**Binning of the Data**"
      ],
      "metadata": {
        "id": "YLGjcHSdkFRS"
      }
    },
    {
      "cell_type": "code",
      "source": [
        "df['bin'] = pd.cut(df['CreditScoreRangeLower'], bins=[0,200,600,1000], labels=[\"Low\", \"Mid\", \"High\"])\n",
        "print(df['bin'].head(100))\n"
      ],
      "metadata": {
        "colab": {
          "base_uri": "https://localhost:8080/"
        },
        "id": "Yz5XeL1_jNv2",
        "outputId": "b9acc408-4d40-4d92-a041-0cd452fdd33a"
      },
      "execution_count": 35,
      "outputs": [
        {
          "output_type": "stream",
          "name": "stdout",
          "text": [
            "0      High\n",
            "1      High\n",
            "2       Mid\n",
            "3      High\n",
            "4      High\n",
            "       ... \n",
            "105    High\n",
            "106    High\n",
            "107    High\n",
            "108    High\n",
            "109    High\n",
            "Name: bin, Length: 100, dtype: category\n",
            "Categories (3, object): ['Low' < 'Mid' < 'High']\n"
          ]
        }
      ]
    },
    {
      "cell_type": "code",
      "source": [
        "print(df['StatedMonthlyIncome'].min())\n",
        "\n",
        "print(df['StatedMonthlyIncome'].max())\n",
        "\n",
        "print(df['StatedMonthlyIncome'].mean())\n"
      ],
      "metadata": {
        "colab": {
          "base_uri": "https://localhost:8080/"
        },
        "id": "KWNnf_ztn0h3",
        "outputId": "3c352e5a-66a7-4a15-9f22-e2430a2443b8"
      },
      "execution_count": 42,
      "outputs": [
        {
          "output_type": "stream",
          "name": "stdout",
          "text": [
            "0.0\n",
            "1750002.916667\n",
            "5608.025568224852\n"
          ]
        }
      ]
    },
    {
      "cell_type": "code",
      "source": [
        "df['bin'] = pd.cut(df['StatedMonthlyIncome'], bins=[0,5000,41666.666667], labels=['Will return','Not return'])"
      ],
      "metadata": {
        "id": "iqOaiHmJngWe"
      },
      "execution_count": 19,
      "outputs": []
    },
    {
      "cell_type": "code",
      "source": [
        "print(df['bin'])"
      ],
      "metadata": {
        "colab": {
          "base_uri": "https://localhost:8080/"
        },
        "id": "bAw_AmCko-lu",
        "outputId": "5946d273-7ac4-442b-a5e9-f8ce3ed17af9"
      },
      "execution_count": 20,
      "outputs": [
        {
          "output_type": "stream",
          "name": "stdout",
          "text": [
            "0       Will return\n",
            "1        Not return\n",
            "2       Will return\n",
            "3       Will return\n",
            "5        Not return\n",
            "           ...     \n",
            "2758     Not return\n",
            "2759    Will return\n",
            "2760    Will return\n",
            "2762    Will return\n",
            "2763     Not return\n",
            "Name: bin, Length: 2206, dtype: category\n",
            "Categories (2, object): ['Will return' < 'Not return']\n"
          ]
        }
      ]
    },
    {
      "cell_type": "markdown",
      "source": [
        "**Logarithmic Function**\n",
        "As we see that the employee status can be very effective and diffrence in the magnitube varies, so we wil use Logarithmic Process"
      ],
      "metadata": {
        "id": "XKbu0O3Diuvw"
      }
    },
    {
      "cell_type": "code",
      "source": [
        "df['log+1'] = (df['EmploymentStatusDuration']+1).transform(np.log)\n",
        "df['log'] = (df['EmploymentStatusDuration']-df['EmploymentStatusDuration'].min()+1) .transform(np.log)\n",
        "df['log+1']\n"
      ],
      "metadata": {
        "colab": {
          "base_uri": "https://localhost:8080/"
        },
        "id": "Ef-53DI3Y6p2",
        "outputId": "84b9d26b-687d-41ef-a11d-f433ea764804"
      },
      "execution_count": 12,
      "outputs": [
        {
          "output_type": "execute_result",
          "data": {
            "text/plain": [
              "0         1.098612\n",
              "1         3.806662\n",
              "2              NaN\n",
              "3         4.736198\n",
              "4         3.806662\n",
              "            ...   \n",
              "113932    5.509388\n",
              "113933    3.091042\n",
              "113934    4.442651\n",
              "113935    4.553877\n",
              "113936    5.501258\n",
              "Name: log+1, Length: 113937, dtype: float64"
            ]
          },
          "metadata": {},
          "execution_count": 12
        }
      ]
    },
    {
      "cell_type": "code",
      "source": [
        "\n",
        "df['log']"
      ],
      "metadata": {
        "colab": {
          "base_uri": "https://localhost:8080/"
        },
        "id": "uGCMfOGpeIpM",
        "outputId": "98676677-befe-47e4-ae0e-09ef259eab82"
      },
      "execution_count": 11,
      "outputs": [
        {
          "output_type": "execute_result",
          "data": {
            "text/plain": [
              "0         1.098612\n",
              "1         3.806662\n",
              "2              NaN\n",
              "3         4.736198\n",
              "4         3.806662\n",
              "            ...   \n",
              "113932    5.509388\n",
              "113933    3.091042\n",
              "113934    4.442651\n",
              "113935    4.553877\n",
              "113936    5.501258\n",
              "Name: log, Length: 113937, dtype: float64"
            ]
          },
          "metadata": {},
          "execution_count": 11
        }
      ]
    },
    {
      "cell_type": "code",
      "source": [
        "df.DateCreditPulled"
      ],
      "metadata": {
        "colab": {
          "base_uri": "https://localhost:8080/"
        },
        "id": "NqH1MiF4eQxh",
        "outputId": "2bcd8522-6dec-48e1-fe2e-ae9ef02bb445"
      },
      "execution_count": 13,
      "outputs": [
        {
          "output_type": "execute_result",
          "data": {
            "text/plain": [
              "0         2007-08-26 18:41:46.780000000\n",
              "1                   2014-02-27 08:28:14\n",
              "2         2007-01-02 14:09:10.060000000\n",
              "3                   2012-10-22 11:02:32\n",
              "4                   2013-09-14 18:38:44\n",
              "                      ...              \n",
              "113932              2013-04-14 05:54:58\n",
              "113933              2011-11-03 20:42:53\n",
              "113934              2013-12-13 05:49:15\n",
              "113935              2011-11-14 13:18:24\n",
              "113936              2014-01-15 09:27:40\n",
              "Name: DateCreditPulled, Length: 113937, dtype: object"
            ]
          },
          "metadata": {},
          "execution_count": 13
        }
      ]
    },
    {
      "cell_type": "markdown",
      "source": [
        "**Feature Splitting**"
      ],
      "metadata": {
        "id": "aNXs9Z6Gijnb"
      }
    },
    {
      "cell_type": "code",
      "source": [
        "import pandas as pd\n",
        "df = pd.DataFrame({'DateCreditPulled':pd.date_range('8/26/2007  6:41:47 PM',periods=6)})\n",
        "print(\"DataFrame is:\\n\", df)\n",
        "for d in df['DateCreditPulled']:\n",
        "   df['Date'] = d.date()\n",
        "   df['Time'] = d.time()\n",
        "df"
      ],
      "metadata": {
        "colab": {
          "base_uri": "https://localhost:8080/",
          "height": 376
        },
        "id": "0ZSoNG8Ag4zm",
        "outputId": "8d8aa9b9-23cc-497b-d113-febcc0a5ef95"
      },
      "execution_count": 38,
      "outputs": [
        {
          "output_type": "stream",
          "name": "stdout",
          "text": [
            "DataFrame is:\n",
            "      DateCreditPulled\n",
            "0 2007-08-26 18:41:47\n",
            "1 2007-08-27 18:41:47\n",
            "2 2007-08-28 18:41:47\n",
            "3 2007-08-29 18:41:47\n",
            "4 2007-08-30 18:41:47\n",
            "5 2007-08-31 18:41:47\n"
          ]
        },
        {
          "output_type": "execute_result",
          "data": {
            "text/plain": [
              "     DateCreditPulled        Date      Time\n",
              "0 2007-08-26 18:41:47  2007-08-31  18:41:47\n",
              "1 2007-08-27 18:41:47  2007-08-31  18:41:47\n",
              "2 2007-08-28 18:41:47  2007-08-31  18:41:47\n",
              "3 2007-08-29 18:41:47  2007-08-31  18:41:47\n",
              "4 2007-08-30 18:41:47  2007-08-31  18:41:47\n",
              "5 2007-08-31 18:41:47  2007-08-31  18:41:47"
            ],
            "text/html": [
              "\n",
              "  <div id=\"df-1a3cd7d8-b1f1-4b3c-b734-1edca17f6939\">\n",
              "    <div class=\"colab-df-container\">\n",
              "      <div>\n",
              "<style scoped>\n",
              "    .dataframe tbody tr th:only-of-type {\n",
              "        vertical-align: middle;\n",
              "    }\n",
              "\n",
              "    .dataframe tbody tr th {\n",
              "        vertical-align: top;\n",
              "    }\n",
              "\n",
              "    .dataframe thead th {\n",
              "        text-align: right;\n",
              "    }\n",
              "</style>\n",
              "<table border=\"1\" class=\"dataframe\">\n",
              "  <thead>\n",
              "    <tr style=\"text-align: right;\">\n",
              "      <th></th>\n",
              "      <th>DateCreditPulled</th>\n",
              "      <th>Date</th>\n",
              "      <th>Time</th>\n",
              "    </tr>\n",
              "  </thead>\n",
              "  <tbody>\n",
              "    <tr>\n",
              "      <th>0</th>\n",
              "      <td>2007-08-26 18:41:47</td>\n",
              "      <td>2007-08-31</td>\n",
              "      <td>18:41:47</td>\n",
              "    </tr>\n",
              "    <tr>\n",
              "      <th>1</th>\n",
              "      <td>2007-08-27 18:41:47</td>\n",
              "      <td>2007-08-31</td>\n",
              "      <td>18:41:47</td>\n",
              "    </tr>\n",
              "    <tr>\n",
              "      <th>2</th>\n",
              "      <td>2007-08-28 18:41:47</td>\n",
              "      <td>2007-08-31</td>\n",
              "      <td>18:41:47</td>\n",
              "    </tr>\n",
              "    <tr>\n",
              "      <th>3</th>\n",
              "      <td>2007-08-29 18:41:47</td>\n",
              "      <td>2007-08-31</td>\n",
              "      <td>18:41:47</td>\n",
              "    </tr>\n",
              "    <tr>\n",
              "      <th>4</th>\n",
              "      <td>2007-08-30 18:41:47</td>\n",
              "      <td>2007-08-31</td>\n",
              "      <td>18:41:47</td>\n",
              "    </tr>\n",
              "    <tr>\n",
              "      <th>5</th>\n",
              "      <td>2007-08-31 18:41:47</td>\n",
              "      <td>2007-08-31</td>\n",
              "      <td>18:41:47</td>\n",
              "    </tr>\n",
              "  </tbody>\n",
              "</table>\n",
              "</div>\n",
              "      <button class=\"colab-df-convert\" onclick=\"convertToInteractive('df-1a3cd7d8-b1f1-4b3c-b734-1edca17f6939')\"\n",
              "              title=\"Convert this dataframe to an interactive table.\"\n",
              "              style=\"display:none;\">\n",
              "        \n",
              "  <svg xmlns=\"http://www.w3.org/2000/svg\" height=\"24px\"viewBox=\"0 0 24 24\"\n",
              "       width=\"24px\">\n",
              "    <path d=\"M0 0h24v24H0V0z\" fill=\"none\"/>\n",
              "    <path d=\"M18.56 5.44l.94 2.06.94-2.06 2.06-.94-2.06-.94-.94-2.06-.94 2.06-2.06.94zm-11 1L8.5 8.5l.94-2.06 2.06-.94-2.06-.94L8.5 2.5l-.94 2.06-2.06.94zm10 10l.94 2.06.94-2.06 2.06-.94-2.06-.94-.94-2.06-.94 2.06-2.06.94z\"/><path d=\"M17.41 7.96l-1.37-1.37c-.4-.4-.92-.59-1.43-.59-.52 0-1.04.2-1.43.59L10.3 9.45l-7.72 7.72c-.78.78-.78 2.05 0 2.83L4 21.41c.39.39.9.59 1.41.59.51 0 1.02-.2 1.41-.59l7.78-7.78 2.81-2.81c.8-.78.8-2.07 0-2.86zM5.41 20L4 18.59l7.72-7.72 1.47 1.35L5.41 20z\"/>\n",
              "  </svg>\n",
              "      </button>\n",
              "      \n",
              "  <style>\n",
              "    .colab-df-container {\n",
              "      display:flex;\n",
              "      flex-wrap:wrap;\n",
              "      gap: 12px;\n",
              "    }\n",
              "\n",
              "    .colab-df-convert {\n",
              "      background-color: #E8F0FE;\n",
              "      border: none;\n",
              "      border-radius: 50%;\n",
              "      cursor: pointer;\n",
              "      display: none;\n",
              "      fill: #1967D2;\n",
              "      height: 32px;\n",
              "      padding: 0 0 0 0;\n",
              "      width: 32px;\n",
              "    }\n",
              "\n",
              "    .colab-df-convert:hover {\n",
              "      background-color: #E2EBFA;\n",
              "      box-shadow: 0px 1px 2px rgba(60, 64, 67, 0.3), 0px 1px 3px 1px rgba(60, 64, 67, 0.15);\n",
              "      fill: #174EA6;\n",
              "    }\n",
              "\n",
              "    [theme=dark] .colab-df-convert {\n",
              "      background-color: #3B4455;\n",
              "      fill: #D2E3FC;\n",
              "    }\n",
              "\n",
              "    [theme=dark] .colab-df-convert:hover {\n",
              "      background-color: #434B5C;\n",
              "      box-shadow: 0px 1px 3px 1px rgba(0, 0, 0, 0.15);\n",
              "      filter: drop-shadow(0px 1px 2px rgba(0, 0, 0, 0.3));\n",
              "      fill: #FFFFFF;\n",
              "    }\n",
              "  </style>\n",
              "\n",
              "      <script>\n",
              "        const buttonEl =\n",
              "          document.querySelector('#df-1a3cd7d8-b1f1-4b3c-b734-1edca17f6939 button.colab-df-convert');\n",
              "        buttonEl.style.display =\n",
              "          google.colab.kernel.accessAllowed ? 'block' : 'none';\n",
              "\n",
              "        async function convertToInteractive(key) {\n",
              "          const element = document.querySelector('#df-1a3cd7d8-b1f1-4b3c-b734-1edca17f6939');\n",
              "          const dataTable =\n",
              "            await google.colab.kernel.invokeFunction('convertToInteractive',\n",
              "                                                     [key], {});\n",
              "          if (!dataTable) return;\n",
              "\n",
              "          const docLinkHtml = 'Like what you see? Visit the ' +\n",
              "            '<a target=\"_blank\" href=https://colab.research.google.com/notebooks/data_table.ipynb>data table notebook</a>'\n",
              "            + ' to learn more about interactive tables.';\n",
              "          element.innerHTML = '';\n",
              "          dataTable['output_type'] = 'display_data';\n",
              "          await google.colab.output.renderOutput(dataTable, element);\n",
              "          const docLink = document.createElement('div');\n",
              "          docLink.innerHTML = docLinkHtml;\n",
              "          element.appendChild(docLink);\n",
              "        }\n",
              "      </script>\n",
              "    </div>\n",
              "  </div>\n",
              "  "
            ]
          },
          "metadata": {},
          "execution_count": 38
        }
      ]
    },
    {
      "cell_type": "markdown",
      "source": [
        "**Normalization**"
      ],
      "metadata": {
        "id": "SWfARlvUlgYJ"
      }
    },
    {
      "cell_type": "code",
      "source": [
        "df['normalized'] = (df['StatedMonthlyIncome'] - df['StatedMonthlyIncome'].min()) / (df['StatedMonthlyIncome'].max() - df['StatedMonthlyIncome'].min())\n",
        "print(df['normalized'] )"
      ],
      "metadata": {
        "colab": {
          "base_uri": "https://localhost:8080/"
        },
        "id": "weikeOlKloIL",
        "outputId": "2726bee2-977e-4fe6-e453-26f0f178e67f"
      },
      "execution_count": 45,
      "outputs": [
        {
          "output_type": "stream",
          "name": "stdout",
          "text": [
            "0         0.001762\n",
            "1         0.003500\n",
            "2         0.001190\n",
            "3         0.001643\n",
            "4         0.005476\n",
            "            ...   \n",
            "113932    0.002476\n",
            "113933    0.004595\n",
            "113934    0.001643\n",
            "113935    0.002214\n",
            "113936    0.002619\n",
            "Name: normalized, Length: 113937, dtype: float64\n"
          ]
        }
      ]
    },
    {
      "cell_type": "markdown",
      "source": [
        "**Standardization**"
      ],
      "metadata": {
        "id": "MSh3FyCqnx-9"
      }
    },
    {
      "cell_type": "code",
      "source": [
        "df['standardized'] = (df['StatedMonthlyIncome'] - df['StatedMonthlyIncome'].mean()) / df['StatedMonthlyIncome'].std()\n",
        "df['standardized']"
      ],
      "metadata": {
        "colab": {
          "base_uri": "https://localhost:8080/"
        },
        "id": "ecKt3fJAnFfv",
        "outputId": "558534ea-3f22-4271-dbd1-6159e584e20a"
      },
      "execution_count": 48,
      "outputs": [
        {
          "output_type": "execute_result",
          "data": {
            "text/plain": [
              "0        -0.337594\n",
              "1         0.069128\n",
              "2        -0.471310\n",
              "3        -0.365451\n",
              "4         0.531565\n",
              "            ...   \n",
              "113932   -0.170448\n",
              "113933    0.325418\n",
              "113934   -0.365451\n",
              "113935   -0.231734\n",
              "113936   -0.137018\n",
              "Name: standardized, Length: 113937, dtype: float64"
            ]
          },
          "metadata": {},
          "execution_count": 48
        }
      ]
    }
  ]
}